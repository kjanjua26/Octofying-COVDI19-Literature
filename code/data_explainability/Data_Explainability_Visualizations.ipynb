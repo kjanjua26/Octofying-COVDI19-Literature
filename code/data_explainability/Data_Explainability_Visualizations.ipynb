{
 "cells": [
  {
   "cell_type": "markdown",
   "metadata": {},
   "source": [
    "# Data Explainability and Visualization\n",
    "In this notebook, we perform exploratory data analysis on the published literature on COVID-19 and try to answer some basic questions such as\n",
    "\n",
    "1. What is known about transmission, incubation, and environmental stability?\n",
    "2. What do we know about COVID-19 risk factors?\n",
    "3. Best medical care?\n",
    "4. How the COVID-19 spreads and evolves?\n",
    "5. What are some of the most promising vaccines available (if at all)?\n",
    "\n",
    "Answering these questions will help clear doubts and answer basic questions with ease."
   ]
  },
  {
   "cell_type": "code",
   "execution_count": 147,
   "metadata": {},
   "outputs": [
    {
     "name": "stderr",
     "output_type": "stream",
     "text": [
      "[nltk_data] Downloading package wordnet to /Users/Janjua/nltk_data...\n",
      "[nltk_data]   Package wordnet is already up-to-date!\n",
      "[nltk_data] Downloading package stopwords to\n",
      "[nltk_data]     /Users/Janjua/nltk_data...\n",
      "[nltk_data]   Unzipping corpora/stopwords.zip.\n"
     ]
    }
   ],
   "source": [
    "# handling imports\n",
    "import pandas as pd\n",
    "import numpy as np\n",
    "import matplotlib.pyplot as plt\n",
    "from matplotlib import style\n",
    "import tqdm, os, re, glob, json\n",
    "from IPython.display import display\n",
    "import nltk\n",
    "nltk.download('wordnet')\n",
    "from nltk.corpus import wordnet as wn\n",
    "from nltk.stem.wordnet import WordNetLemmatizer\n",
    "import random\n",
    "from gensim import corpora\n",
    "import pickle\n",
    "import gensim\n",
    "from nltk.tokenize import word_tokenize\n",
    "nltk.download('stopwords')\n",
    "en_stop = set(nltk.corpus.stopwords.words('english'))\n",
    "style.use('ggplot')\n",
    "%matplotlib inline"
   ]
  },
  {
   "cell_type": "code",
   "execution_count": 4,
   "metadata": {},
   "outputs": [],
   "source": [
    "basepath = \"/Users/Janjua/Desktop/Projects/Octofying-COVID19-Literature/dataset\"\n",
    "datapath = \"CORD-19-research-challenge\""
   ]
  },
  {
   "cell_type": "code",
   "execution_count": 9,
   "metadata": {},
   "outputs": [
    {
     "name": "stdout",
     "output_type": "stream",
     "text": [
      "Total papers found:  33375\n",
      "['/Users/Janjua/Desktop/Projects/Octofying-COVID19-Literature/dataset/CORD-19-research-challenge/custom_license/custom_license/86a998617c077f4fe2ab26214995a3548fbc0fc5.json']\n"
     ]
    }
   ],
   "source": [
    "papers = [x for x in glob.glob(os.path.join(basepath, datapath) + \"/*/*/*.json\")]\n",
    "print('Total papers found: ', len(papers))\n",
    "print(papers[:1])"
   ]
  },
  {
   "cell_type": "code",
   "execution_count": 18,
   "metadata": {},
   "outputs": [
    {
     "name": "stdout",
     "output_type": "stream",
     "text": [
      "====================================================================================================\n",
      "Title:  Middle East Respiratory Syndrome and Severe Acute Respiratory Syndrome\n",
      "====================================================================================================\n",
      "Abstract:  The recent emergence of the Middle East respiratory syndrome (MERS)-CoV, a close relative of the Severe Acute respiratory syndrome (SARS)-CoV, both of which caused a lethal respiratory infection in humans, reinforces the need for further understanding of coronavirus pathogenesis and the host immune response. These viruses have evolved diverse strategies to evade and block host immune responses, facilitating infection and transmission. Pathogenesis following infection with these viruses is characterized by a marked delay in the induction of Type I interferon (IFN I) and, subsequently, by a poor adaptive immune response. Therapies that expedite IFN I induction as well as interventions that antagonize immunoevasive virus proteins are thus promising candidates for immune modulation.\n",
      "====================================================================================================\n",
      "Paper Contents:  While most CoVs cause the common cold in humans, infection with two recently emerged CoVs, SARS-CoV and MERS-CoV, resulted in more severe pulmonary disease with alarmingly high case fatality rates [1] . SARS-CoV first emerged in Guangdong province of China in the winter of 2002 [2] . With a high rate of nosocomial transmission to healthcare professionals combined with a lack of precedence for a CoV outbreak, SARS-CoV spread across 29 countries infecting more than 8000 humans and resulting in a staggering 774 deaths (~10%) [3] . MERS-CoV was first reported in Saudi Arabia a decade later in June 2012 [4] . Cases were also detected in other parts of the Middle East including Jordan, Qatar, Oman and the United Arab Emirates. Virus was spread by travellers from the Arabian peninsula to Europe, Africa and other regions of Asia including, most recently, the Republic of Korea, infecting a total of 1626 people, with a case fatality rate of 36.0%, as of January 11, 2015 [5] [6] [7] [8] . Both of these outbreaks were notably characterized by an age-dependent increase in morbidity and mortality. Thus, during the SARS epidemic no patients under the age of 24 years died, while mortality was more than 50% in those over 65 years of age [9] .\n",
      "\n",
      "Similarly, MERS also has a similar age-dependent pattern with elderly patients showing signs of more severe disease. MERS tends to be most severe in patients with co-morbidities such as diabetes, chronic pulmonary disease and renal disease [10] . While no more SARS cases were reported since 2004, new MERS cases continue to appear. The respiratory route of transmission of MERS-CoV combined with the geographical location of its persistence makes MERS a serious public health threat that if not curtailed, has the potential to develop as a major epidemic in the years to come. Although no MERS cases have been associated with the Hajj and Umrah pilgrimages, such large gatherings make this a potentially major problem [1] . In spite of the efforts by researchers across the globe, no effective drug treatments or vaccines have been formulated to control SARS or MERS. In this review we summarize the similarities and differences between SARS and MERS-CoV with an emphasis on the key features of the host immune response and tactics used by the viruses to evade the immune response.\n",
      "\n",
      "Coronaviruses are enveloped RNA viruses that fall under the Nidovirus superfamily ( Figures  1, 2) . With a positive-sense single-stranded RNA genome of 31 kb, coronaviruses contain the largest RNA genome identified to date [11] . Both SARS and MERS-CoVs are betacoronaviruses, belonging to lineages b and c respectively. They share similar genomic structures with multiple open reading frames (ORFs). While the genes required for viral RNA replication are located on the 5'-terminal two thirds of the genome, those that encode the structural proteins are located on the 3' end [11] . Other genes, which encode accessory proteins not required for virus replication and viability, are distributed throughout the structural genes. MERS-CoV has five different accessory proteins while SARS-CoV has eight of them ( Figure 1 ) [12] . Some of these genes including some of the non-structural proteins encoded at the 5' end of the genome are involved in induction and modulation of innate immune responses in the host (humans).\n",
      "\n",
      "The initiation of infection by CoVs begins with entry into host cells. Being close relatives in the phylogenetic tree, it may not be surprising that both SARS-CoV and MERS-CoV utilize large ectopeptidases on the surface of the host cell to gain entry; SARS-CoV binds to angiotensin converting enzyme 2 (ACE-2) and MERS-CoV attaches to dipeptidyl peptidase 4 (DPP4) [13, 14] . While it has been shown that the spike (S) glycoprotein of SARS-CoV underwent extensive mutation in the region that binds to ACE2 [15] , facilitating species to species transmission, the glycoprotein of MERS-CoV has not undergone substantial change in the DPP4-binding region during passage in humans [16, 17] . The absence of any mutation in DPP4-binding region suggests that receptor binding is not the rate-limiting step in virus transmission and human adaptation. After binding to their respective receptors, proteolytic cleavage of the S protein results in virus-cell fusion and release of genomic RNA into the cytosol of the host cell. Following the release of RNA, the virus undergoes transcription and replication on rearranged host membranes, including double-membrane vesicles (DMVs) [18] . Newly synthesized RNA is encapsidated within the nucleocapsid protein and then buds into vesicles derived from the endoplasmic reticulum-golgi intermediate compartment (ERGIC) for further assembly into new virions. These vesicles are eventually transported to the cell surface to be released outside the cell. Vijay Seroprevalence studies strongly support the notion that camels are one, if not the only, reservoir of MERS-CoV [17, [19] [20] [21] [22] [23] . Transmission from camels to humans is likely, although not all MERS patients have a history of direct camel exposure [24] . This could mean that other means of indirect transmission like consumption of camel milk or meat or transfer from an intermediate host to humans contribute to spread [20] .\n",
      "\n",
      "All successful viruses have devised strategies to evade immune recognition by the host. These include mechanisms that are both active and passive. Common strategies are to delay the induction of the IFN response, block IFN signaling or counter the action of downstream effector molecules. Coronavirus RNA is not recognized in several cell types, partly because double stranded RNA, which is a potent inducer of IFN is shielded from recognition by intracellular helical sensors, such as RIG-I and MDA5, by containment in membranous structures, such as double membrane vesicles (DMVs) during replication [25, 26] . Also viral proteins nsp1, nsp3, nsp16, N protein, SARS-CoV ORF6 and ORF3b and MERS-CoV 4a and 4b inhibit IFN induction or signaling ( Figure 3 ). Nsp1 inhibits IFN signaling in SARS-CoV infected cells by inhibiting phosphorylation of STAT1 as well as by promoting host gene mRNA degradation [12] . Nsp1 also inhibits host gene expression by binding to the 40S ribosomal subunit and by inactivating the translation activity of the ribosomes. Nsp3 through its papain-like protease (PLP) domain inhibits IFN I production by deubiquitinating IRF3 and prevents its nuclear translocation [27] . PLP physically interacts with TRAF3, TBK1, IKKε, STING and IRF3, and inhibits phosphorylation and dimerization of IRF3 inhibiting IFN expression [28] . Nsp16, by effecting 2'-O methylation, renders viral RNA indistinguishable from host cell RNA [29, 30] . N protein inhibits activator protein 1 (AP1) signaling and protein kinase R (PKR) function as well as nuclear factor-κB (NFκB) activation [12] . The ORF6 protein inhibits IFN signaling by binding to karyopherin-α2, which prevents nuclear translocation of proteins containing classical nuclear import signals, including STAT1, crucial for IFN signaling [31] . MERS-CoV accessory protein ORF4a antagonizes IFN induction through MDA5 by sequestrating viral dsRNA and preventing it from binding to MDA5 [32] [33] [34] . MERS-CoV also encodes accessory protein ORF4b, which has been shown to localize to the nucleus and inhibit IFN I synthesis and NFκB signaling pathways [27] .\n",
      "\n",
      "Further insights into the immune response against MERS-CoV are hindered by the absence of a good animal model that recapitulates the human disease. Mouse DPP4 does not support MERS-CoV replication but mice are susceptible if hDPP4 is supplied exogenously using a replication deficient adeno-virus expressing hDPP4 (Ad5-hDPP4) or if mice are transgenic or \"knocked-in\" for hDPP4 [35] [36] [37] . Use of Ad5-hDPP4 transduction allows genetically deficient mice to be infected without additional crossing. MERS-CoV infection of transduced Ad5-hDPP4 demonstrated the need for IFN I induction for protection and showed that virus-specific T cells were required for MERS-CoV clearance. Rabbits, macaques and marmosets can also be infected with MERS-CoV although these animals develop few signs of clinical disease (rabbits, macaques) or are difficult to obtain (marmosets) [38] [39] [40] [41] . Rabbits and macaques may be useful for study of mild human disease but not for understanding pathogenesis in severely ill patients. The anti-virus T cell response is critical for virus clearance. The T cell response is initiated by the uptake of viral antigen (Ag) by respiratory dendritic cells (rDC) and rDC migration to draining lymph nodes (DLN), where they prime naïve virus specific T cells. Following priming, naïve T cell undergo activation and clonal proliferation, which then migrate from the DLN to the site of infection (lungs). At this site, they secrete various anti-viral chemokines, cytokines and cytotoxic molecules that can directly or indirectly inhibit viral replication. Severely ill MERS and SARS patients exhibited severe leukopenia with marked lymphopenia, impaired activation of T cells and poor anti-virus antibody responses contributing to delayed kinetics of virus clearance [9, 42] . In addition, an effective T cell response is required to shut off the initial cytokine response. Thus, severe SARS was also characterized by prolonged cytokine and interferon expression, contributing to a \"cytokine storm\" in these patients. Studies of virus-specific CD4 and CD8 T cells in patients recovered from SARS identified several immunogenic epitopes localized to the spike (S) and nucleocapsid (N) proteins [43] . However no information is available yet regarding the T cell epitopes recognized in MERS-CoV-infected patients.\n",
      "\n",
      "As in many viral infections, development of neutralizing antibodies is required to prevent infection after secondary exposure to the pathogen. The anti-SARS-CoV antibody response appeared to be transient, with antibodies not detected 6 years after infection. In contrast, T cell responses were still detectable. [44] . The transient nature of the antibody response raises concerns that SARS recovered patients, if reinfected, would not be protected from severe disease. Of note, none of these studies examined the mucosal antibody response, which may be very important for protection.\n",
      "\n",
      "Mouse and macaque models of SARS infection have provided a wealth of knowledge regarding the immune response against CoV in general and SARS-CoV in particular. Human strains of SARS-CoV infect macaques and mice but generally do not cause significant clinical disease [45] . However, upon mouse adaptation, the virus causes severe disease, characterized by a lethal respiratory infection [46] . In some strains, young (6-10 week) mice are completely resistant to disease, remaining without signs of disease even in the absence of Type 1 interferon signaling, while others are highly sensitive [31] . Aged mice of all strains are susceptible to disease, mimicking the age-dependent susceptibility observed in humans. SARS-CoV-infected mice have been useful for identifying host genes important in pathogenesis. Studies with mouse adapted SARS-CoV showed that more severe disease was characterized by inefficient immune activation, such as reduced expression of MHCII, CD86, accompanied by poor CD4 and CD8 T cell responses. Reversing inefficient activation of innate immune cells in mice using TLR ligands such as poly I-C or by depleting inhibitory alveolar macrophages using clodronate liposomes rescued mice from lethal disease [47] . These interventions resulted in enhanced migration of dendritic cells to draining lymph nodes and consequent development of a protective T cell response and enhanced kinetics of virus clearance. Experiments with macaques also showed that aged macaques developed a robust, but dysregulated host innate response against SARS-CoV compared to young animals and this correlated with worse outcomes after infection [48] .\n",
      "\n",
      "Another study showed that age-dependent increases in the levels of a prostaglandin, PGD 2 , in the lungs of aged mice inhibited rDC migration to DLN, which in turn impeded virus- specific T cell responses, rendering aged mice susceptible to severe SARS-CoV infection [49] . Blockade of PGD 2 signaling through its receptor, DP1, resulted in enhanced rDC migration to DLN and virus-specific T cell responses. Given the propensity of MERS-CoV to cause severe disease in aged individuals, it is likely that PGD 2 has a similar role in the context of MERS-CoV infections.\n",
      "\n",
      "Delayed immune activation was also observed in SARS-CoV-infected human macrophages and dendritic cells, suggesting that the virus is able to evade the immune response. Further SARS-CoV only abortively infects DCs and macrophages [9] . In contrast, MERS-CoV productively infects human macrophages [50] . Notably, MERS-CoV additionally infects activated T cells, which may contribute to disease severity [51] . Similar effects occur in infected airway epithelial cells, the first target cell for SARS-CoV and MERS-CoV replication. One study compared infection of human epithelial Calu-3 2B4 cells with MERS-CoV and SARS-CoV, highlighting and contrasting the potential antiviral mechanisms mounted by the host against the two viruses. Infection of these cells induced activation of several RNA sensors at approximately the same time post infection. However the IFN response was slightly delayed in cells infected with SARS-CoV compared to MERS-CoV. Additionally, a notable difference was the specific down regulation of the antigen presentation pathway after MERS-CoV infection, which was upregulated after SARS-CoV infection [52] . Thus, although these two viruses are closely related to one another and both elicit delayed immune responses, they induce a significantly different host transcriptional response, suggesting that 'MERS is not SARS'.\n",
      "\n",
      "The ease with which SARS-CoV and MERS-CoV, as well as other respiratory coronaviruses such as HCoV-OC43 [53, 54, 16] crossed species to infect humans make it all the more likely that serious CoV outbreaks will continue to emerge. Fittingly, exactly a decade after SARS, MERS emerged with an even higher mortality rate. Three years after the emergence of MERS, the lack of detailed information about the human disease and of a broadly useful animal model has hindered progress in understanding MERS-CoV disease and immune responses. The recent outbreak in South Korea with over 180 cases emphasizes the importance of instituting proper infection control measures, especially in hospital settings and in developing vaccines and drugs to counter the virus.\n",
      "\n",
      "• MERS-CoV is a newly emerging betacoronavirus causing lethal human respiratory infection.\n",
      "\n",
      "• MERS-CoV is transmitted from camels in the Arabian peninsula.\n",
      "\n",
      "• Susceptibility to MERS-CoV infection is greatest in individuals with underlying morbidities.\n",
      "\n",
      "• No vaccines or anti-viral therapies are available for prophylaxis or treatment.\n",
      "\n",
      "• MERS-CoV and SARS-CoV have evolved effective immune evasion strategies. Signaling of MAVS results in activation of various kinases, which phosphorylate IRF3, resulting in its dimerization and trafficking to the nucleus for inducing IFN I production. IFN I thus produced will signal through IFNα/β receptor resulting in its phosphorylation by JAK1 and TYK1. This will result in STAT1/STAT2 complex formation, activation and localization into the nucleus using import factors such as karyopherin α1 (Kα1) and karyopherin α2 (Kα2), which will activate various interferon stimulated response elements (ISREs) to bring about an antiviral state. As depicted in the schematic, CoVs have developed strategies to evade/inhibit host innate immune functions, some of which are specific to SARS-CoV [26] (blue) and MERS-CoV (magenta) and some which are shared between the two viruses (red). Nsp1 inhibits phosphorylation of STAT1, promotes host gene mRNA degradation, and also inhibits host mRNA translation. Nsp3 interacts with IRF3, inhibiting its phosphorylation, dimerization and nuclear translocation. Nsp16 renders the virus unrecognizable by cellular sensors MDA5 and RIG-I. N protein inhibits AP1 and NFκB signaling and PKR function. \n",
      "\n",
      "\n",
      "====================================================================================================\n"
     ]
    }
   ],
   "source": [
    "for paper in papers:\n",
    "    read_paper = json.load(open(paper))\n",
    "    title = read_paper['metadata']['title']\n",
    "    try:\n",
    "        abstract = read_paper['abstract'][0]['text']\n",
    "    except:\n",
    "        abstract = \"No abstract found\"\n",
    "    paper_text = \"\"\n",
    "    for text in read_paper['body_text']:\n",
    "        paper_text += text['text'] + '\\n\\n'\n",
    "    print(\"=\"*100)\n",
    "    print('Title: ', title)\n",
    "    print(\"=\"*100)\n",
    "    print('Abstract: ', abstract)\n",
    "    print(\"=\"*100)\n",
    "    print('Paper Contents: ', paper_text)\n",
    "    print(\"=\"*100)\n",
    "    break"
   ]
  },
  {
   "cell_type": "code",
   "execution_count": 22,
   "metadata": {},
   "outputs": [],
   "source": [
    "def draw_horizontal_lines(times):\n",
    "    print(\"=\"*times)\n",
    "    \n",
    "def read_papers():\n",
    "    papers_contents = []\n",
    "    for paper in tqdm.tqdm(papers):\n",
    "        read_paper = json.load(open(paper))\n",
    "        title = read_paper['metadata']['title']\n",
    "        try:\n",
    "            abstract = read_paper['abstract'][0]['text']\n",
    "        except:\n",
    "            abstract = \"No abstract found\"\n",
    "        paper_text = \"\"\n",
    "        for text in read_paper['body_text']:\n",
    "            paper_text += text['text'] + '\\n\\n'\n",
    "        papers_contents.append([title, abstract, paper_text])\n",
    "    return papers_contents"
   ]
  },
  {
   "cell_type": "code",
   "execution_count": 23,
   "metadata": {},
   "outputs": [
    {
     "name": "stderr",
     "output_type": "stream",
     "text": [
      "  0%|          | 58/33375 [00:00<00:58, 571.19it/s]"
     ]
    },
    {
     "name": "stdout",
     "output_type": "stream",
     "text": [
      "Reading Papers!\n",
      "====================================================================================================\n"
     ]
    },
    {
     "name": "stderr",
     "output_type": "stream",
     "text": [
      "100%|██████████| 33375/33375 [01:05<00:00, 508.82it/s]"
     ]
    },
    {
     "name": "stdout",
     "output_type": "stream",
     "text": [
      "['Middle East Respiratory Syndrome and Severe Acute Respiratory Syndrome', 'The recent emergence of the Middle East respiratory syndrome (MERS)-CoV, a close relative of the Severe Acute respiratory syndrome (SARS)-CoV, both of which caused a lethal respiratory infection in humans, reinforces the need for further understanding of coronavirus pathogenesis and the host immune response. These viruses have evolved diverse strategies to evade and block host immune responses, facilitating infection and transmission. Pathogenesis following infection with these viruses is characterized by a marked delay in the induction of Type I interferon (IFN I) and, subsequently, by a poor adaptive immune response. Therapies that expedite IFN I induction as well as interventions that antagonize immunoevasive virus proteins are thus promising candidates for immune modulation.', 'While most CoVs cause the common cold in humans, infection with two recently emerged CoVs, SARS-CoV and MERS-CoV, resulted in more severe pulmonary disease with alarmingly high case fatality rates [1] . SARS-CoV first emerged in Guangdong province of China in the winter of 2002 [2] . With a high rate of nosocomial transmission to healthcare professionals combined with a lack of precedence for a CoV outbreak, SARS-CoV spread across 29 countries infecting more than 8000 humans and resulting in a staggering 774 deaths (~10%) [3] . MERS-CoV was first reported in Saudi Arabia a decade later in June 2012 [4] . Cases were also detected in other parts of the Middle East including Jordan, Qatar, Oman and the United Arab Emirates. Virus was spread by travellers from the Arabian peninsula to Europe, Africa and other regions of Asia including, most recently, the Republic of Korea, infecting a total of 1626 people, with a case fatality rate of 36.0%, as of January 11, 2015 [5] [6] [7] [8] . Both of these outbreaks were notably characterized by an age-dependent increase in morbidity and mortality. Thus, during the SARS epidemic no patients under the age of 24 years died, while mortality was more than 50% in those over 65 years of age [9] .\\n\\nSimilarly, MERS also has a similar age-dependent pattern with elderly patients showing signs of more severe disease. MERS tends to be most severe in patients with co-morbidities such as diabetes, chronic pulmonary disease and renal disease [10] . While no more SARS cases were reported since 2004, new MERS cases continue to appear. The respiratory route of transmission of MERS-CoV combined with the geographical location of its persistence makes MERS a serious public health threat that if not curtailed, has the potential to develop as a major epidemic in the years to come. Although no MERS cases have been associated with the Hajj and Umrah pilgrimages, such large gatherings make this a potentially major problem [1] . In spite of the efforts by researchers across the globe, no effective drug treatments or vaccines have been formulated to control SARS or MERS. In this review we summarize the similarities and differences between SARS and MERS-CoV with an emphasis on the key features of the host immune response and tactics used by the viruses to evade the immune response.\\n\\nCoronaviruses are enveloped RNA viruses that fall under the Nidovirus superfamily ( Figures  1, 2) . With a positive-sense single-stranded RNA genome of 31 kb, coronaviruses contain the largest RNA genome identified to date [11] . Both SARS and MERS-CoVs are betacoronaviruses, belonging to lineages b and c respectively. They share similar genomic structures with multiple open reading frames (ORFs). While the genes required for viral RNA replication are located on the 5\\'-terminal two thirds of the genome, those that encode the structural proteins are located on the 3\\' end [11] . Other genes, which encode accessory proteins not required for virus replication and viability, are distributed throughout the structural genes. MERS-CoV has five different accessory proteins while SARS-CoV has eight of them ( Figure 1 ) [12] . Some of these genes including some of the non-structural proteins encoded at the 5\\' end of the genome are involved in induction and modulation of innate immune responses in the host (humans).\\n\\nThe initiation of infection by CoVs begins with entry into host cells. Being close relatives in the phylogenetic tree, it may not be surprising that both SARS-CoV and MERS-CoV utilize large ectopeptidases on the surface of the host cell to gain entry; SARS-CoV binds to angiotensin converting enzyme 2 (ACE-2) and MERS-CoV attaches to dipeptidyl peptidase 4 (DPP4) [13, 14] . While it has been shown that the spike (S) glycoprotein of SARS-CoV underwent extensive mutation in the region that binds to ACE2 [15] , facilitating species to species transmission, the glycoprotein of MERS-CoV has not undergone substantial change in the DPP4-binding region during passage in humans [16, 17] . The absence of any mutation in DPP4-binding region suggests that receptor binding is not the rate-limiting step in virus transmission and human adaptation. After binding to their respective receptors, proteolytic cleavage of the S protein results in virus-cell fusion and release of genomic RNA into the cytosol of the host cell. Following the release of RNA, the virus undergoes transcription and replication on rearranged host membranes, including double-membrane vesicles (DMVs) [18] . Newly synthesized RNA is encapsidated within the nucleocapsid protein and then buds into vesicles derived from the endoplasmic reticulum-golgi intermediate compartment (ERGIC) for further assembly into new virions. These vesicles are eventually transported to the cell surface to be released outside the cell. Vijay Seroprevalence studies strongly support the notion that camels are one, if not the only, reservoir of MERS-CoV [17, [19] [20] [21] [22] [23] . Transmission from camels to humans is likely, although not all MERS patients have a history of direct camel exposure [24] . This could mean that other means of indirect transmission like consumption of camel milk or meat or transfer from an intermediate host to humans contribute to spread [20] .\\n\\nAll successful viruses have devised strategies to evade immune recognition by the host. These include mechanisms that are both active and passive. Common strategies are to delay the induction of the IFN response, block IFN signaling or counter the action of downstream effector molecules. Coronavirus RNA is not recognized in several cell types, partly because double stranded RNA, which is a potent inducer of IFN is shielded from recognition by intracellular helical sensors, such as RIG-I and MDA5, by containment in membranous structures, such as double membrane vesicles (DMVs) during replication [25, 26] . Also viral proteins nsp1, nsp3, nsp16, N protein, SARS-CoV ORF6 and ORF3b and MERS-CoV 4a and 4b inhibit IFN induction or signaling ( Figure 3 ). Nsp1 inhibits IFN signaling in SARS-CoV infected cells by inhibiting phosphorylation of STAT1 as well as by promoting host gene mRNA degradation [12] . Nsp1 also inhibits host gene expression by binding to the 40S ribosomal subunit and by inactivating the translation activity of the ribosomes. Nsp3 through its papain-like protease (PLP) domain inhibits IFN I production by deubiquitinating IRF3 and prevents its nuclear translocation [27] . PLP physically interacts with TRAF3, TBK1, IKKε, STING and IRF3, and inhibits phosphorylation and dimerization of IRF3 inhibiting IFN expression [28] . Nsp16, by effecting 2\\'-O methylation, renders viral RNA indistinguishable from host cell RNA [29, 30] . N protein inhibits activator protein 1 (AP1) signaling and protein kinase R (PKR) function as well as nuclear factor-κB (NFκB) activation [12] . The ORF6 protein inhibits IFN signaling by binding to karyopherin-α2, which prevents nuclear translocation of proteins containing classical nuclear import signals, including STAT1, crucial for IFN signaling [31] . MERS-CoV accessory protein ORF4a antagonizes IFN induction through MDA5 by sequestrating viral dsRNA and preventing it from binding to MDA5 [32] [33] [34] . MERS-CoV also encodes accessory protein ORF4b, which has been shown to localize to the nucleus and inhibit IFN I synthesis and NFκB signaling pathways [27] .\\n\\nFurther insights into the immune response against MERS-CoV are hindered by the absence of a good animal model that recapitulates the human disease. Mouse DPP4 does not support MERS-CoV replication but mice are susceptible if hDPP4 is supplied exogenously using a replication deficient adeno-virus expressing hDPP4 (Ad5-hDPP4) or if mice are transgenic or \"knocked-in\" for hDPP4 [35] [36] [37] . Use of Ad5-hDPP4 transduction allows genetically deficient mice to be infected without additional crossing. MERS-CoV infection of transduced Ad5-hDPP4 demonstrated the need for IFN I induction for protection and showed that virus-specific T cells were required for MERS-CoV clearance. Rabbits, macaques and marmosets can also be infected with MERS-CoV although these animals develop few signs of clinical disease (rabbits, macaques) or are difficult to obtain (marmosets) [38] [39] [40] [41] . Rabbits and macaques may be useful for study of mild human disease but not for understanding pathogenesis in severely ill patients. The anti-virus T cell response is critical for virus clearance. The T cell response is initiated by the uptake of viral antigen (Ag) by respiratory dendritic cells (rDC) and rDC migration to draining lymph nodes (DLN), where they prime naïve virus specific T cells. Following priming, naïve T cell undergo activation and clonal proliferation, which then migrate from the DLN to the site of infection (lungs). At this site, they secrete various anti-viral chemokines, cytokines and cytotoxic molecules that can directly or indirectly inhibit viral replication. Severely ill MERS and SARS patients exhibited severe leukopenia with marked lymphopenia, impaired activation of T cells and poor anti-virus antibody responses contributing to delayed kinetics of virus clearance [9, 42] . In addition, an effective T cell response is required to shut off the initial cytokine response. Thus, severe SARS was also characterized by prolonged cytokine and interferon expression, contributing to a \"cytokine storm\" in these patients. Studies of virus-specific CD4 and CD8 T cells in patients recovered from SARS identified several immunogenic epitopes localized to the spike (S) and nucleocapsid (N) proteins [43] . However no information is available yet regarding the T cell epitopes recognized in MERS-CoV-infected patients.\\n\\nAs in many viral infections, development of neutralizing antibodies is required to prevent infection after secondary exposure to the pathogen. The anti-SARS-CoV antibody response appeared to be transient, with antibodies not detected 6 years after infection. In contrast, T cell responses were still detectable. [44] . The transient nature of the antibody response raises concerns that SARS recovered patients, if reinfected, would not be protected from severe disease. Of note, none of these studies examined the mucosal antibody response, which may be very important for protection.\\n\\nMouse and macaque models of SARS infection have provided a wealth of knowledge regarding the immune response against CoV in general and SARS-CoV in particular. Human strains of SARS-CoV infect macaques and mice but generally do not cause significant clinical disease [45] . However, upon mouse adaptation, the virus causes severe disease, characterized by a lethal respiratory infection [46] . In some strains, young (6-10 week) mice are completely resistant to disease, remaining without signs of disease even in the absence of Type 1 interferon signaling, while others are highly sensitive [31] . Aged mice of all strains are susceptible to disease, mimicking the age-dependent susceptibility observed in humans. SARS-CoV-infected mice have been useful for identifying host genes important in pathogenesis. Studies with mouse adapted SARS-CoV showed that more severe disease was characterized by inefficient immune activation, such as reduced expression of MHCII, CD86, accompanied by poor CD4 and CD8 T cell responses. Reversing inefficient activation of innate immune cells in mice using TLR ligands such as poly I-C or by depleting inhibitory alveolar macrophages using clodronate liposomes rescued mice from lethal disease [47] . These interventions resulted in enhanced migration of dendritic cells to draining lymph nodes and consequent development of a protective T cell response and enhanced kinetics of virus clearance. Experiments with macaques also showed that aged macaques developed a robust, but dysregulated host innate response against SARS-CoV compared to young animals and this correlated with worse outcomes after infection [48] .\\n\\nAnother study showed that age-dependent increases in the levels of a prostaglandin, PGD 2 , in the lungs of aged mice inhibited rDC migration to DLN, which in turn impeded virus- specific T cell responses, rendering aged mice susceptible to severe SARS-CoV infection [49] . Blockade of PGD 2 signaling through its receptor, DP1, resulted in enhanced rDC migration to DLN and virus-specific T cell responses. Given the propensity of MERS-CoV to cause severe disease in aged individuals, it is likely that PGD 2 has a similar role in the context of MERS-CoV infections.\\n\\nDelayed immune activation was also observed in SARS-CoV-infected human macrophages and dendritic cells, suggesting that the virus is able to evade the immune response. Further SARS-CoV only abortively infects DCs and macrophages [9] . In contrast, MERS-CoV productively infects human macrophages [50] . Notably, MERS-CoV additionally infects activated T cells, which may contribute to disease severity [51] . Similar effects occur in infected airway epithelial cells, the first target cell for SARS-CoV and MERS-CoV replication. One study compared infection of human epithelial Calu-3 2B4 cells with MERS-CoV and SARS-CoV, highlighting and contrasting the potential antiviral mechanisms mounted by the host against the two viruses. Infection of these cells induced activation of several RNA sensors at approximately the same time post infection. However the IFN response was slightly delayed in cells infected with SARS-CoV compared to MERS-CoV. Additionally, a notable difference was the specific down regulation of the antigen presentation pathway after MERS-CoV infection, which was upregulated after SARS-CoV infection [52] . Thus, although these two viruses are closely related to one another and both elicit delayed immune responses, they induce a significantly different host transcriptional response, suggesting that \\'MERS is not SARS\\'.\\n\\nThe ease with which SARS-CoV and MERS-CoV, as well as other respiratory coronaviruses such as HCoV-OC43 [53, 54, 16] crossed species to infect humans make it all the more likely that serious CoV outbreaks will continue to emerge. Fittingly, exactly a decade after SARS, MERS emerged with an even higher mortality rate. Three years after the emergence of MERS, the lack of detailed information about the human disease and of a broadly useful animal model has hindered progress in understanding MERS-CoV disease and immune responses. The recent outbreak in South Korea with over 180 cases emphasizes the importance of instituting proper infection control measures, especially in hospital settings and in developing vaccines and drugs to counter the virus.\\n\\n• MERS-CoV is a newly emerging betacoronavirus causing lethal human respiratory infection.\\n\\n• MERS-CoV is transmitted from camels in the Arabian peninsula.\\n\\n• Susceptibility to MERS-CoV infection is greatest in individuals with underlying morbidities.\\n\\n• No vaccines or anti-viral therapies are available for prophylaxis or treatment.\\n\\n• MERS-CoV and SARS-CoV have evolved effective immune evasion strategies. Signaling of MAVS results in activation of various kinases, which phosphorylate IRF3, resulting in its dimerization and trafficking to the nucleus for inducing IFN I production. IFN I thus produced will signal through IFNα/β receptor resulting in its phosphorylation by JAK1 and TYK1. This will result in STAT1/STAT2 complex formation, activation and localization into the nucleus using import factors such as karyopherin α1 (Kα1) and karyopherin α2 (Kα2), which will activate various interferon stimulated response elements (ISREs) to bring about an antiviral state. As depicted in the schematic, CoVs have developed strategies to evade/inhibit host innate immune functions, some of which are specific to SARS-CoV [26] (blue) and MERS-CoV (magenta) and some which are shared between the two viruses (red). Nsp1 inhibits phosphorylation of STAT1, promotes host gene mRNA degradation, and also inhibits host mRNA translation. Nsp3 interacts with IRF3, inhibiting its phosphorylation, dimerization and nuclear translocation. Nsp16 renders the virus unrecognizable by cellular sensors MDA5 and RIG-I. N protein inhibits AP1 and NFκB signaling and PKR function. \\n\\n']\n",
      "====================================================================================================\n"
     ]
    },
    {
     "name": "stderr",
     "output_type": "stream",
     "text": [
      "\n"
     ]
    }
   ],
   "source": [
    "print(\"Reading Papers!\")\n",
    "draw_horizontal_lines(100)\n",
    "papers = read_papers()\n",
    "print(papers[0])\n",
    "draw_horizontal_lines(100)"
   ]
  },
  {
   "cell_type": "code",
   "execution_count": 88,
   "metadata": {},
   "outputs": [
    {
     "name": "stdout",
     "output_type": "stream",
     "text": [
      "====================================================================================================\n",
      "Create a dataframe for processing!\n",
      "====================================================================================================\n"
     ]
    },
    {
     "data": {
      "text/html": [
       "<div>\n",
       "<style scoped>\n",
       "    .dataframe tbody tr th:only-of-type {\n",
       "        vertical-align: middle;\n",
       "    }\n",
       "\n",
       "    .dataframe tbody tr th {\n",
       "        vertical-align: top;\n",
       "    }\n",
       "\n",
       "    .dataframe thead th {\n",
       "        text-align: right;\n",
       "    }\n",
       "</style>\n",
       "<table border=\"1\" class=\"dataframe\">\n",
       "  <thead>\n",
       "    <tr style=\"text-align: right;\">\n",
       "      <th></th>\n",
       "      <th>title</th>\n",
       "      <th>abstract</th>\n",
       "      <th>text</th>\n",
       "    </tr>\n",
       "  </thead>\n",
       "  <tbody>\n",
       "    <tr>\n",
       "      <td>0</td>\n",
       "      <td>Middle East Respiratory Syndrome and Severe Ac...</td>\n",
       "      <td>The recent emergence of the Middle East respir...</td>\n",
       "      <td>While most CoVs cause the common cold in human...</td>\n",
       "    </tr>\n",
       "    <tr>\n",
       "      <td>1</td>\n",
       "      <td>Integrated, Multi-cohort Analysis Identifies C...</td>\n",
       "      <td>Graphical Abstract Highlights d MVS is a commo...</td>\n",
       "      <td>Clinically relevant respiratory viral signatur...</td>\n",
       "    </tr>\n",
       "    <tr>\n",
       "      <td>2</td>\n",
       "      <td>Evolutionary Medicine IV. Evolution and Emerge...</td>\n",
       "      <td>No abstract found</td>\n",
       "      <td>The evolutionary history of humans is characte...</td>\n",
       "    </tr>\n",
       "    <tr>\n",
       "      <td>3</td>\n",
       "      <td>International aviation emissions to 2025: Can ...</td>\n",
       "      <td>International aviation is growing rapidly, res...</td>\n",
       "      <td>Sixty years ago, civil aviation was an infant ...</td>\n",
       "    </tr>\n",
       "    <tr>\n",
       "      <td>4</td>\n",
       "      <td>2 Mechanisms of diarrhoea</td>\n",
       "      <td>No abstract found</td>\n",
       "      <td>Acute infections of the gastrointestinal tract...</td>\n",
       "    </tr>\n",
       "  </tbody>\n",
       "</table>\n",
       "</div>"
      ],
      "text/plain": [
       "                                               title  \\\n",
       "0  Middle East Respiratory Syndrome and Severe Ac...   \n",
       "1  Integrated, Multi-cohort Analysis Identifies C...   \n",
       "2  Evolutionary Medicine IV. Evolution and Emerge...   \n",
       "3  International aviation emissions to 2025: Can ...   \n",
       "4                          2 Mechanisms of diarrhoea   \n",
       "\n",
       "                                            abstract  \\\n",
       "0  The recent emergence of the Middle East respir...   \n",
       "1  Graphical Abstract Highlights d MVS is a commo...   \n",
       "2                                  No abstract found   \n",
       "3  International aviation is growing rapidly, res...   \n",
       "4                                  No abstract found   \n",
       "\n",
       "                                                text  \n",
       "0  While most CoVs cause the common cold in human...  \n",
       "1  Clinically relevant respiratory viral signatur...  \n",
       "2  The evolutionary history of humans is characte...  \n",
       "3  Sixty years ago, civil aviation was an infant ...  \n",
       "4  Acute infections of the gastrointestinal tract...  "
      ]
     },
     "metadata": {},
     "output_type": "display_data"
    }
   ],
   "source": [
    "draw_horizontal_lines(100)\n",
    "print(\"Create a dataframe for processing!\")\n",
    "draw_horizontal_lines(100)\n",
    "df_covid = pd.DataFrame(papers, columns=[\"title\", \"abstract\", \"text\"])\n",
    "display(df_covid.head())"
   ]
  },
  {
   "cell_type": "code",
   "execution_count": 90,
   "metadata": {},
   "outputs": [
    {
     "name": "stdout",
     "output_type": "stream",
     "text": [
      "====================================================================================================\n",
      "Getting the subset of DF containing the keyword!\n",
      "====================================================================================================\n"
     ]
    },
    {
     "data": {
      "text/html": [
       "<div>\n",
       "<style scoped>\n",
       "    .dataframe tbody tr th:only-of-type {\n",
       "        vertical-align: middle;\n",
       "    }\n",
       "\n",
       "    .dataframe tbody tr th {\n",
       "        vertical-align: top;\n",
       "    }\n",
       "\n",
       "    .dataframe thead th {\n",
       "        text-align: right;\n",
       "    }\n",
       "</style>\n",
       "<table border=\"1\" class=\"dataframe\">\n",
       "  <thead>\n",
       "    <tr style=\"text-align: right;\">\n",
       "      <th></th>\n",
       "      <th>title</th>\n",
       "      <th>abstract</th>\n",
       "      <th>text</th>\n",
       "    </tr>\n",
       "  </thead>\n",
       "  <tbody>\n",
       "    <tr>\n",
       "      <td>136</td>\n",
       "      <td>Medical issues associated with commercial fl i...</td>\n",
       "      <td>Almost 2 billion people travel aboard commerci...</td>\n",
       "      <td>Fitness for air travel is a growing issue beca...</td>\n",
       "    </tr>\n",
       "    <tr>\n",
       "      <td>157</td>\n",
       "      <td>Pandemic 2009 influenza A (H1N1) infection amo...</td>\n",
       "      <td>No abstract found</td>\n",
       "      <td>Hajj is the largest annual recurring religious...</td>\n",
       "    </tr>\n",
       "    <tr>\n",
       "      <td>201</td>\n",
       "      <td>-NC-ND license (http://creativecommons.org/lic...</td>\n",
       "      <td>Many industrialized countries have implemented...</td>\n",
       "      <td>Vaccination of older adults has been shown to ...</td>\n",
       "    </tr>\n",
       "    <tr>\n",
       "      <td>290</td>\n",
       "      <td>Human Metapneumovirus and Other Respiratory Vi...</td>\n",
       "      <td>No abstract found</td>\n",
       "      <td>Human metapneumovirus (HMPV) is a respiratory ...</td>\n",
       "    </tr>\n",
       "    <tr>\n",
       "      <td>351</td>\n",
       "      <td>Emerging infectious disease outbreaks: Old les...</td>\n",
       "      <td>No abstract found</td>\n",
       "      <td>The long and prominent role of infectious dise...</td>\n",
       "    </tr>\n",
       "  </tbody>\n",
       "</table>\n",
       "</div>"
      ],
      "text/plain": [
       "                                                 title  \\\n",
       "136  Medical issues associated with commercial fl i...   \n",
       "157  Pandemic 2009 influenza A (H1N1) infection amo...   \n",
       "201  -NC-ND license (http://creativecommons.org/lic...   \n",
       "290  Human Metapneumovirus and Other Respiratory Vi...   \n",
       "351  Emerging infectious disease outbreaks: Old les...   \n",
       "\n",
       "                                              abstract  \\\n",
       "136  Almost 2 billion people travel aboard commerci...   \n",
       "157                                  No abstract found   \n",
       "201  Many industrialized countries have implemented...   \n",
       "290                                  No abstract found   \n",
       "351                                  No abstract found   \n",
       "\n",
       "                                                  text  \n",
       "136  Fitness for air travel is a growing issue beca...  \n",
       "157  Hajj is the largest annual recurring religious...  \n",
       "201  Vaccination of older adults has been shown to ...  \n",
       "290  Human metapneumovirus (HMPV) is a respiratory ...  \n",
       "351  The long and prominent role of infectious dise...  "
      ]
     },
     "metadata": {},
     "output_type": "display_data"
    },
    {
     "name": "stderr",
     "output_type": "stream",
     "text": [
      "100%|██████████| 1126/1126 [00:00<00:00, 4386.68it/s]"
     ]
    },
    {
     "name": "stdout",
     "output_type": "stream",
     "text": [
      "====================================================================================================\n",
      "Title:  Medical issues associated with commercial fl ights\n",
      "Sentences:  [' 69 Recommendations need to be in place for pregnant women because the fetus is exposed to the same radiation dose as the mother']\n",
      "\n",
      "====================================================================================================\n",
      "Title:  Pandemic 2009 influenza A (H1N1) infection among 2009 Hajj Pilgrims from Southern Iran: a real-time RT-PCR-based study\n",
      "Sentences:  [' This finding is understandable in view of the fact that there were no members of high-risk groups such as pregnant women or individuals with chronic health conditions among the pilgrims, and secondly, as previous reports indicate, A(H1N1)pdm09 infection has not been associated with high mortality rates and finally the instructions given to the pilgrims about contact and hand hygiene and respiratory etiquette']\n",
      "\n",
      "====================================================================================================\n",
      "Title:  -NC-ND license (http://creativecommons.org/licenses/by-nc-nd/4.0/)\n",
      "Sentences:  [' immunization visits at ages 6, 10 and 14 weeks, and 9 months) and pregnant women']\n",
      "\n",
      "====================================================================================================\n",
      "Title:  Human Metapneumovirus and Other Respiratory Viral Infections during Pregnancy and Birth, Nepal\n",
      "Sentences:  [' The incidence and characteristics of HMPV have not been well described in pregnant women', ' Twenty-five women were infected with HMPV during pregnancy, compared with 98 pregnant women who contracted rhinovirus and 7 who contracted respiratory syncytial virus', ' An intervention to reduce HMPV febrile respiratory illness in pregnant women may have the potential to decrease risk of adverse birth outcomes in developing countries', '\\n\\nIllness and death from respiratory viruses among pregnant women have received greater appreciation globally following the pandemic influenza outbreak in 2009', ' Pregnancy is known to have an immunomodulating effect, and pregnant women are at elevated risk for complications of both seasonal and pandemic influenza (13, 14) ', '\\n\\nThis study describes the clinical characteristics of infection due to HMPV and other respiratory viruses among pregnant women in a rural population in South Asia', '\\n\\nWe obtained data for this study during 2 consecutive community-based randomized controlled trials of year-round seasonal influenza vaccination among pregnant women in a rural population in Sarlahi, Nepal', '3); this represents 25 cases among pregnant women (16', ' Other respiratory viruses detected among pregnant women in this cohort were rhinovirus (n = 98), coronavirus (n = 30), parainfluenza (n = 23), bocavirus (n = 9), respiratory syncytial virus (RSV) (n = 7), and adenovirus (n = 6) ( Table 1) ', '\\n\\nAmong the 25 pregnant women with HMPV, median gestational age at time of illness was 32', '\\n\\nIn respiratory disease associated with respiratory viruses among pregnant women overall, cough was the most common symptom in all illnesses except parainfluenza and RSV, for which rhinorrhea/nasal congestion was the most common symptom', '\\n\\nTwelve pregnant women (48', ' Overall, rhinovirus was the most commonly detected pathogen among pregnant women in this cohort (n = 98); coronavirus was also relatively common (n = 30)', ' This finding contrasts with previous literature on influenza and RSV, which demonstrates elevated risk for severe disease among pregnant women (13, 14, (29) (30) (31) ', ' Rates of hypertension, maternal smoking, and alcohol use are low in this cohort, and we found no difference in body mass index between pregnant women with and without SGA births', ' Few studies of HMPV have been conducted in these types of settings, particularly among pregnant women, which is notable because the presentation and clinical outcomes of disease may differ in regions of the world with high rates of household density, malnutrition, and indoor air pollution']\n",
      "\n",
      "====================================================================================================\n",
      "Title:  Emerging infectious disease outbreaks: Old lessons and new challenges for obstetrician-gynecologists\n",
      "Sentences:  [' In fact, diseases of pregnant women and newborn infants are 1 of the 9 areas that are targeted specifically in the CDC plan', ' For example, 2 of the 8 patients with lab-confirmed severe acute respiratory syndrome (SARS) in the United States were pregnant women', ' Specific concerns for obstetrician-gynecologists that include issues that are relevant for pregnant women are addressed', ' 34, 35 Because ribavirin is known to be teratogenic and embryocidal in animal studies, 36 ribavirin is not recommended for treatment of SARS in pregnant women', '\\n\\nAlthough there were reports of pregnant women with SARS from several countries, the number of reported cases is too small to permit any definitive conclusions as to whether SARS was more or less severe among pregnant women as compared with nonpregnant women', ' Among the cases of SARS that have been reported among pregnant women, there were no reports of perinatal transmission of SARS', ' [37] [38] [39] [40] [41] [42] The largest case series of pregnant women with SARS was from Hong Kong; 12 pregnant patients, including 5 pregnant healthcare workers, with SARS were admitted to 5 public hospitals in Hong Kong', ' Seven of the 12 pregnant women with SARS were infected in the first trimester, and 5 of the women were infected in the second or third trimester', ' Although the number of evaluated patients was small, pregnant women with SARS were more likely to require admission to the intensive care unit, to experience renal failure and disseminated intravascular coagulopathy, and to die than nonpregnant control subjects', ' 38 Followup information was reported for the 5 liveborn infants who were born to pregnant women who were infected with SARS during the second or third trimesters', ' 15 There were also cases of pregnant women with SARS from mainland China 42,43 and 2 cases from the United States', ' 37, 39, 40 Notably, 2 of the 8 persons with laboratory-confirmed SARS in the United States were pregnant women', ' During an outbreak of a disease like SARS in which nosocomial spread plays an important role, the implications for a busy obstetric unit that provides urgent medical care on a 24-hour basis to primarily healthy pregnant women and their newborn infants are enormous', ' [46] [47] [48] The basic principles of the responses in Toronto and Hong Kong included keeping healthy pregnant women away from potentially infectious SARS cases', '\\n\\nTo avoid West Nile virus infection, the CDC recommends that pregnant women avoid exposure to mosquitoes, including wearing protective clothing and avoiding outdoor activities during peak mosquito feeding times, usually dawn and dusk', ' 65 Safety information about DEET comes largely from animal toxicity studies and from a malaria clinical trial in Thailand in which 897 pregnant women applied DEET daily and no serious maternal or neonatal adverse effects were reported', ' 66 For pregnant women with unexplained fever, mental status changes, meningitis, encephalitis, or acute flaccid paralysis, obstetrician-gynecologists should consider the diagnosis of West Nile virus and should test maternal samples for West Nile virus (serum and cerebrospinal fluid, if indicated)', ' However, screening of asymptomatic pregnant women is not recommended', ' The CDC has set up a registry for pregnant women who have been infected with West Nile virus; since 2003, the CDC has been tracking O70 infected pregnant women', ' 81 During the anthrax attacks of 2001, recommendations about how to implement postexposure prophylaxis regimens for asymptomatic pregnant women needed to be developed rapidly', ' Doxycycline should be used with caution in pregnant women because it may cause fetal toxic effects such as defective dental enamel and depressed bone growth', ' In addition, the use of doxycycline in pregnant women infrequently has been associated with hepatic necrosis', ' 85 However, the risks of anthrax must be balanced against the risks of doxycycline; in some cases, the use of doxycycline in pregnant women may be appropriate', ' In the meantime, the Department of Defense policy continues to exclude pregnant women from anthrax vaccination programs']\n",
      "\n"
     ]
    },
    {
     "name": "stderr",
     "output_type": "stream",
     "text": [
      "\n"
     ]
    }
   ],
   "source": [
    "def keyword_based_search(keyword, df):\n",
    "    result = df[df['text'].str.contains(keyword)]\n",
    "    text_content = result.text.values\n",
    "    title = result.title.values\n",
    "    display(result.head())\n",
    "    relevant_sentences = {'title': [], 'sents': []}\n",
    "    for sent in tqdm.tqdm(range(len(text_content))):\n",
    "        sentences = text_content[sent].split('.')\n",
    "        relevant_sentences['title'].append(title[sent])\n",
    "        relevant_sentences['sents'].append([s for s in sentences if keyword in s])\n",
    "    return relevant_sentences\n",
    "\n",
    "draw_horizontal_lines(100)\n",
    "print(\"Getting the subset of DF containing the keyword!\")\n",
    "draw_horizontal_lines(100)\n",
    "relevant_sentences = keyword_based_search(\"pregnant women\", df_covid)\n",
    "for i in range(5):\n",
    "    draw_horizontal_lines(100)\n",
    "    print(\"Title: \", relevant_sentences['title'][i])\n",
    "    print(\"Sentences: \", relevant_sentences['sents'][i])\n",
    "    print()"
   ]
  },
  {
   "cell_type": "markdown",
   "metadata": {},
   "source": [
    "## Topic Modelling - Latent Dirichlet allocation\n",
    "In this section, we perform topic modelling on the corpus (research papers) to retrieve the papers with relevant information."
   ]
  },
  {
   "cell_type": "code",
   "execution_count": 162,
   "metadata": {},
   "outputs": [
    {
     "name": "stdout",
     "output_type": "stream",
     "text": [
      "Saved dictionary!\n"
     ]
    }
   ],
   "source": [
    "def get_tokens(text):\n",
    "    return word_tokenize(text)\n",
    "\n",
    "def get_lemma(word):\n",
    "    lemma = wn.morphy(word)\n",
    "    if lemma is None:\n",
    "        return word\n",
    "    else:\n",
    "        return lemma\n",
    "    \n",
    "def get_lemma2(word):\n",
    "    return WordNetLemmatizer().lemmatize(word)\n",
    "\n",
    "def prepare_text_for_lda(text):\n",
    "    tokens = get_tokens(text)\n",
    "    tokens = [token for token in tokens if len(token) > 4]\n",
    "    tokens = [token for token in tokens if token not in en_stop]\n",
    "    tokens = [get_lemma(token) for token in tokens]\n",
    "    return tokens\n",
    "\n",
    "def generate_tokens_for_searched_sentences():\n",
    "    text_data = []\n",
    "    for ix in range(len(relevant_sentences['title'])):\n",
    "        full_text = ''.join(x for x in relevant_sentences['sents'][ix])\n",
    "        tokens = prepare_text_for_lda(full_text)\n",
    "        if random.random() > 0.99:\n",
    "            text_data.append(tokens)\n",
    "    return text_data\n",
    "        \n",
    "def get_corpus(token_data):\n",
    "    dictionary = corpora.Dictionary(token_data)\n",
    "    corpus = [dictionary.doc2bow(text) for text in token_data]\n",
    "    pickle.dump(corpus, open('corpus.pkl', 'wb'))\n",
    "    dictionary.save('dictionary.gensim')\n",
    "    print(\"Saved dictionary!\")\n",
    "    return corpus, dictionary\n",
    "    \n",
    "tokens_data = generate_tokens_for_searched_sentences()\n",
    "corpus, dictionary = get_corpus(tokens_data)"
   ]
  },
  {
   "cell_type": "code",
   "execution_count": 163,
   "metadata": {},
   "outputs": [
    {
     "name": "stdout",
     "output_type": "stream",
     "text": [
      "(0, '0.061*\"pregnant\" + 0.061*\"woman\" + 0.019*\"death\" + 0.019*\"admission\" + 0.019*\"Khuroo\" + 0.019*\"associate\" + 0.019*\"infection\" + 0.010*\"virus\" + 0.010*\"population\" + 0.010*\"clinically\"')\n",
      "(1, '0.028*\"disease\" + 0.028*\"pregnant\" + 0.028*\"woman\" + 0.028*\"intrapartum\" + 0.028*\"issuance\" + 0.028*\"guideline\" + 0.028*\"culture\" + 0.028*\"first\" + 0.028*\"recommend\" + 0.028*\"national\"')\n",
      "(2, '0.024*\"woman\" + 0.024*\"disease\" + 0.024*\"young\" + 0.024*\"pregnant\" + 0.024*\"child\" + 0.024*\"priority\" + 0.024*\"designate\" + 0.024*\"provider\" + 0.024*\"complication\" + 0.024*\"person\"')\n",
      "(3, '0.045*\"viral\" + 0.024*\"therapy\" + 0.024*\"testing\" + 0.024*\"product\" + 0.024*\"receive\" + 0.024*\"emerge\" + 0.024*\"highlight\" + 0.024*\"technology\" + 0.024*\"Irish\" + 0.024*\"vulnerability\"')\n",
      "(4, '0.028*\"pregnant\" + 0.028*\"woman\" + 0.028*\"transmission\" + 0.016*\"universal\" + 0.015*\"healthy\" + 0.015*\"routinely\" + 0.015*\"handling\" + 0.015*\"otherwise\" + 0.015*\"increase\" + 0.015*\"baby\"')\n"
     ]
    }
   ],
   "source": [
    "NUM_TOPICS = 5\n",
    "ldamodel = gensim.models.ldamodel.LdaModel(corpus, num_topics = NUM_TOPICS, id2word=dictionary, passes=15)\n",
    "ldamodel.save('model5.gensim')\n",
    "topics = ldamodel.print_topics(num_words=10)\n",
    "for topic in topics:\n",
    "    print(topic)"
   ]
  },
  {
   "cell_type": "code",
   "execution_count": 165,
   "metadata": {},
   "outputs": [
    {
     "name": "stderr",
     "output_type": "stream",
     "text": [
      "/usr/local/lib/python3.7/site-packages/pyLDAvis/_prepare.py:257: FutureWarning: Sorting because non-concatenation axis is not aligned. A future version\n",
      "of pandas will change to not sort by default.\n",
      "\n",
      "To accept the future behavior, pass 'sort=False'.\n",
      "\n",
      "To retain the current behavior and silence the warning, pass 'sort=True'.\n",
      "\n",
      "  return pd.concat([default_term_info] + list(topic_dfs))\n"
     ]
    },
    {
     "data": {
      "text/html": [
       "\n",
       "<link rel=\"stylesheet\" type=\"text/css\" href=\"https://cdn.rawgit.com/bmabey/pyLDAvis/files/ldavis.v1.0.0.css\">\n",
       "\n",
       "\n",
       "<div id=\"ldavis_el2909665839496482439627678\"></div>\n",
       "<script type=\"text/javascript\">\n",
       "\n",
       "var ldavis_el2909665839496482439627678_data = {\"mdsDat\": {\"x\": [-0.11587381438478245, 0.1213772114479221, 0.0006350521795503815, -0.005927358516171531, -0.00021109072651851875], \"y\": [0.07209325288591413, 0.06738236880302842, 0.0013645389436475308, -0.025268160499908446, -0.11557200013268173], \"topics\": [1, 2, 3, 4, 5], \"cluster\": [1, 1, 1, 1, 1], \"Freq\": [39.07042694091797, 22.495304107666016, 8.8932466506958, 8.425025939941406, 21.11600112915039]}, \"tinfo\": {\"Category\": [\"Default\", \"Default\", \"Default\", \"Default\", \"Default\", \"Default\", \"Default\", \"Default\", \"Default\", \"Default\", \"Default\", \"Default\", \"Default\", \"Default\", \"Default\", \"Default\", \"Default\", \"Default\", \"Default\", \"Default\", \"Default\", \"Default\", \"Default\", \"Default\", \"Default\", \"Default\", \"Default\", \"Default\", \"Default\", \"Default\", \"Topic1\", \"Topic1\", \"Topic1\", \"Topic1\", \"Topic1\", \"Topic1\", \"Topic1\", \"Topic1\", \"Topic1\", \"Topic1\", \"Topic1\", \"Topic1\", \"Topic1\", \"Topic1\", \"Topic1\", \"Topic1\", \"Topic1\", \"Topic1\", \"Topic1\", \"Topic1\", \"Topic1\", \"Topic1\", \"Topic1\", \"Topic1\", \"Topic1\", \"Topic1\", \"Topic1\", \"Topic1\", \"Topic1\", \"Topic1\", \"Topic1\", \"Topic1\", \"Topic1\", \"Topic1\", \"Topic1\", \"Topic2\", \"Topic2\", \"Topic2\", \"Topic2\", \"Topic2\", \"Topic2\", \"Topic2\", \"Topic2\", \"Topic2\", \"Topic2\", \"Topic2\", \"Topic2\", \"Topic2\", \"Topic2\", \"Topic2\", \"Topic2\", \"Topic2\", \"Topic2\", \"Topic2\", \"Topic2\", \"Topic2\", \"Topic2\", \"Topic2\", \"Topic2\", \"Topic2\", \"Topic2\", \"Topic2\", \"Topic2\", \"Topic2\", \"Topic2\", \"Topic2\", \"Topic2\", \"Topic2\", \"Topic2\", \"Topic3\", \"Topic3\", \"Topic3\", \"Topic3\", \"Topic3\", \"Topic3\", \"Topic3\", \"Topic3\", \"Topic3\", \"Topic3\", \"Topic3\", \"Topic3\", \"Topic3\", \"Topic3\", \"Topic3\", \"Topic3\", \"Topic3\", \"Topic3\", \"Topic3\", \"Topic3\", \"Topic3\", \"Topic3\", \"Topic3\", \"Topic3\", \"Topic3\", \"Topic3\", \"Topic3\", \"Topic3\", \"Topic3\", \"Topic3\", \"Topic3\", \"Topic3\", \"Topic3\", \"Topic3\", \"Topic3\", \"Topic3\", \"Topic3\", \"Topic3\", \"Topic3\", \"Topic3\", \"Topic3\", \"Topic3\", \"Topic3\", \"Topic3\", \"Topic3\", \"Topic3\", \"Topic3\", \"Topic4\", \"Topic4\", \"Topic4\", \"Topic4\", \"Topic4\", \"Topic4\", \"Topic4\", \"Topic4\", \"Topic4\", \"Topic4\", \"Topic4\", \"Topic4\", \"Topic4\", \"Topic4\", \"Topic4\", \"Topic4\", \"Topic4\", \"Topic4\", \"Topic4\", \"Topic4\", \"Topic4\", \"Topic4\", \"Topic4\", \"Topic4\", \"Topic4\", \"Topic4\", \"Topic4\", \"Topic4\", \"Topic4\", \"Topic4\", \"Topic4\", \"Topic4\", \"Topic4\", \"Topic4\", \"Topic4\", \"Topic4\", \"Topic4\", \"Topic4\", \"Topic4\", \"Topic4\", \"Topic4\", \"Topic4\", \"Topic4\", \"Topic4\", \"Topic4\", \"Topic4\", \"Topic5\", \"Topic5\", \"Topic5\", \"Topic5\", \"Topic5\", \"Topic5\", \"Topic5\", \"Topic5\", \"Topic5\", \"Topic5\", \"Topic5\", \"Topic5\", \"Topic5\", \"Topic5\", \"Topic5\", \"Topic5\", \"Topic5\", \"Topic5\", \"Topic5\", \"Topic5\", \"Topic5\", \"Topic5\", \"Topic5\", \"Topic5\", \"Topic5\", \"Topic5\", \"Topic5\", \"Topic5\", \"Topic5\", \"Topic5\", \"Topic5\", \"Topic5\", \"Topic5\", \"Topic5\", \"Topic5\", \"Topic5\", \"Topic5\"], \"Freq\": [1.0, 2.0, 2.0, 1.0, 1.0, 1.0, 1.0, 1.0, 1.0, 1.0, 1.0, 1.0, 1.0, 1.0, 1.0, 1.0, 0.0, 0.0, 0.0, 0.0, 0.0, 0.0, 0.0, 0.0, 0.0, 0.0, 0.0, 0.0, 0.0, 0.0, 1.546475887298584, 1.5464671850204468, 1.5458192825317383, 1.5457439422607422, 0.8435183167457581, 0.8435182571411133, 0.8435181379318237, 0.8435181379318237, 0.8435181379318237, 0.8435183167457581, 0.8435181379318237, 0.8435182571411133, 0.843518078327179, 0.8435178995132446, 0.8435180187225342, 0.8435180187225342, 0.8435180187225342, 0.8435178399085999, 0.8435180187225342, 0.8435178995132446, 0.8435178995132446, 0.8435178995132446, 0.8435178995132446, 0.8435178399085999, 0.8435176610946655, 0.8435177803039551, 0.8435176610946655, 0.8435176610946655, 0.8435176610946655, 0.8435176610946655, 5.061666965484619, 5.061525344848633, 1.5457000732421875, 0.8435173630714417, 0.8435174822807312, 1.3273543119430542, 1.327331304550171, 1.3272502422332764, 1.3272323608398438, 1.3272042274475098, 1.3271796703338623, 1.3271093368530273, 1.3270740509033203, 1.3270264863967896, 1.3269338607788086, 0.7240357398986816, 0.7239958047866821, 0.7239775657653809, 0.7239724397659302, 0.723966121673584, 0.7239604592323303, 0.7239475846290588, 0.7239450216293335, 0.7239328622817993, 0.7239288687705994, 0.7239212393760681, 0.7239171862602234, 0.7239124178886414, 0.7239091396331787, 0.7239059805870056, 0.7239068746566772, 0.7238931655883789, 0.723884642124176, 0.7238268852233887, 0.7237704992294312, 1.3277264833450317, 1.327694058418274, 1.3276640176773071, 0.7240126729011536, 0.4507203996181488, 0.45072028040885925, 0.45072028040885925, 0.45072028040885925, 0.45072025060653687, 0.45072025060653687, 0.45072025060653687, 0.45072025060653687, 0.45072025060653687, 0.4507201910018921, 0.4507202208042145, 0.4507202208042145, 0.450719952583313, 0.450719952583313, 0.45080992579460144, 0.45091959834098816, 0.07512221485376358, 0.07512218505144119, 0.07512207329273224, 0.07512204349040985, 0.07512202113866806, 0.07512202858924866, 0.07512201368808746, 0.07512199133634567, 0.07512198388576508, 0.07512194663286209, 0.07543058693408966, 0.07540398091077805, 0.07539162784814835, 0.07537713646888733, 0.45094940066337585, 0.45080214738845825, 0.07536730170249939, 0.07535375654697418, 0.0753466859459877, 0.07533545792102814, 0.07533267885446548, 0.07540566474199295, 0.07532563805580139, 0.07532395422458649, 0.07570718228816986, 0.07562557607889175, 0.0755169466137886, 0.07547706365585327, 0.07537820190191269, 0.0753730833530426, 0.07536907494068146, 0.799203097820282, 0.43592676520347595, 0.4359267055988312, 0.4359266459941864, 0.4359266459941864, 0.4359266459941864, 0.4359263777732849, 0.435926228761673, 0.4359261989593506, 0.43592607975006104, 0.4359259605407715, 0.4359714984893799, 0.43597182631492615, 0.43586236238479614, 0.07265640795230865, 0.07265637069940567, 0.07265635579824448, 0.07265637069940567, 0.07265637069940567, 0.07265633344650269, 0.07265633344650269, 0.07265634089708328, 0.07265631854534149, 0.0726563036441803, 0.0726563110947609, 0.07265631854534149, 0.07265628129243851, 0.07265626639127731, 0.07265637814998627, 0.07265639305114746, 0.43556874990463257, 0.4355696141719818, 0.0726599469780922, 0.07265976071357727, 0.07265977561473846, 0.07265975326299667, 0.07265964150428772, 0.07265875488519669, 0.07265805453062057, 0.07265785336494446, 0.07265782356262207, 0.07265779376029968, 0.07265779376029968, 0.07265777140855789, 0.0726577639579773, 0.0726577490568161, 0.6970692873001099, 0.6970694065093994, 0.6970691680908203, 0.6970691680908203, 0.6970691680908203, 0.6970690488815308, 0.6970688700675964, 0.6970688700675964, 0.6970688104629517, 0.6970688104629517, 0.6970685124397278, 0.6970685124397278, 0.6970683336257935, 0.6970682144165039, 0.6968204975128174, 0.696770429611206, 0.696765661239624, 0.6967562437057495, 0.6967337727546692, 0.6967304944992065, 0.696733832359314, 0.6967297196388245, 0.6967259049415588, 0.6967247724533081, 0.6967155933380127, 0.6967165470123291, 0.69670170545578, 0.6966822147369385, 0.6966504454612732, 0.696651041507721, 1.2771334648132324, 1.2787537574768066, 1.2786730527877808, 0.6972783803939819, 0.6971024870872498, 0.6969428062438965, 0.6969349384307861], \"Term\": [\"viral\", \"transmission\", \"disease\", \"testing\", \"therapy\", \"young\", \"intrapartum\", \"issuance\", \"guideline\", \"culture\", \"first\", \"recommend\", \"national\", \"screening\", \"prenatal\", \"prevention\", \"product\", \"highlight\", \"receive\", \"technology\", \"emerge\", \"Irish\", \"vulnerability\", \"consequence\", \"plasma\", \"Anti-D\", \"child\", \"provider\", \"vaccination\", \"group\", \"death\", \"admission\", \"Khuroo\", \"associate\", \"virus\", \"effects\", \"fewer\", \"anemia\", \"aplastic\", \"population\", \"primary\", \"clinically\", \"Despite\", \"Since\", \"Legro\", \"safely\", \"significant\", \"transient\", \"fetal\", \"infant\", \"found\", \"crisis\", \"given\", \"widely\", \"clomiphene\", \"chronic\", \"hemolytic\", \"anti-malarial\", \"toxic\", \"large\", \"pregnant\", \"woman\", \"infection\", \"intrauterine\", \"fetalis\", \"intrapartum\", \"issuance\", \"guideline\", \"culture\", \"first\", \"recommend\", \"national\", \"screening\", \"prenatal\", \"prevention\", \"revise\", \"carrier\", \"either\", \"35-37\", \"factor\", \"incidence\", \"invasive\", \"decline\", \"consensus\", \"obstetric\", \"contribute\", \"prophylaxis\", \"using\", \"colonization\", \"week\", \"antibiotic\", \"assess\", \"document\", \"gestation\", \"rectovaginal\", \"disease\", \"pregnant\", \"woman\", \"universal\", \"child\", \"designate\", \"provider\", \"priority\", \"vaccination\", \"underlie\", \"complication\", \"person\", \"group\", \"health\", \"serious\", \"high\", \"Groups\", \"influenza\", \"young\", \"disease\", \"Anti-D\", \"plasma\", \"Irish\", \"consequence\", \"highlight\", \"vulnerability\", \"technology\", \"receive\", \"emerge\", \"product\", \"breastfeed\", \"perinatal\", \"combine\", \"decrease\", \"woman\", \"pregnant\", \"antiretroviral\", \"permit\", \"cesarean\", \"subsequent\", \"schedule\", \"particularly\", \"country\", \"section\", \"transmission\", \"infection\", \"associate\", \"Khuroo\", \"symptom\", \"rates\", \"fulminant\", \"viral\", \"product\", \"receive\", \"emerge\", \"highlight\", \"technology\", \"Irish\", \"vulnerability\", \"consequence\", \"plasma\", \"Anti-D\", \"testing\", \"therapy\", \"transmission\", \"health\", \"group\", \"underlie\", \"high\", \"Groups\", \"designate\", \"person\", \"influenza\", \"priority\", \"provider\", \"vaccination\", \"serious\", \"complication\", \"child\", \"breastfeed\", \"perinatal\", \"woman\", \"pregnant\", \"need\", \"Assiri\", \"study\", \"MERS-CoV\", \"infect\", \"admission\", \"disease\", \"leading\", \"therapeutic\", \"trial\", \"outcome\", \"anti-malarial\", \"infection\", \"relatively\", \"handling\", \"routinely\", \"baby\", \"increase\", \"otherwise\", \"situation\", \"household\", \"member\", \"These\", \"activity\", \"carry\", \"involve\", \"poultry\", \"relate\", \"childhood\", \"mortality\", \"mother\", \"prevalence\", \"region\", \"country\", \"impact\", \"avoidance\", \"together\", \"section\", \"subsequent\", \"schedule\", \"cesarean\", \"permit\", \"decrease\", \"antiretroviral\", \"transmission\", \"pregnant\", \"woman\", \"universal\", \"healthy\", \"infection\", \"young\"], \"Total\": [1.0, 2.0, 2.0, 1.0, 1.0, 1.0, 1.0, 1.0, 1.0, 1.0, 1.0, 1.0, 1.0, 1.0, 1.0, 1.0, 0.0, 0.0, 0.0, 0.0, 0.0, 0.0, 0.0, 0.0, 0.0, 0.0, 0.0, 0.0, 0.0, 0.0, 1.9312037229537964, 1.931200385093689, 1.9308971166610718, 1.9308620691299438, 1.2282462120056152, 1.2282462120056152, 1.2282460927963257, 1.2282460927963257, 1.2282460927963257, 1.2282463312149048, 1.2282462120056152, 1.2282463312149048, 1.2282462120056152, 1.2282460927963257, 1.2282462120056152, 1.2282462120056152, 1.2282462120056152, 1.2282459735870361, 1.2282462120056152, 1.2282460927963257, 1.2282460927963257, 1.2282460927963257, 1.2282462120056152, 1.2282462120056152, 1.2282459735870361, 1.2282460927963257, 1.2282460927963257, 1.2282460927963257, 1.2282460927963257, 1.2282460927963257, 8.554487228393555, 8.554380416870117, 2.511690378189087, 1.2282459735870361, 1.2282459735870361, 1.732883334159851, 1.7328855991363525, 1.7328799962997437, 1.7328782081604004, 1.7328788042068481, 1.7328784465789795, 1.7328768968582153, 1.7328740358352661, 1.732874870300293, 1.732866644859314, 1.1290911436080933, 1.1290926933288574, 1.12908935546875, 1.1290897130966187, 1.129091501235962, 1.1290897130966187, 1.1290897130966187, 1.1290897130966187, 1.1290885210037231, 1.1290888786315918, 1.1290884017944336, 1.1290862560272217, 1.129088282585144, 1.1290887594223022, 1.1290842294692993, 1.1290875673294067, 1.1290867328643799, 1.129088282585144, 1.1290838718414307, 1.1290818452835083, 2.8111915588378906, 8.554487228393555, 8.554380416870117, 1.7098932266235352, 0.9009130001068115, 0.9009129405021667, 0.900912880897522, 0.900912880897522, 0.9009130597114563, 0.900912880897522, 0.9009130001068115, 0.9009130001068115, 0.9009130597114563, 0.9009130597114563, 0.9009131193161011, 0.9009131193161011, 0.9009131789207458, 0.9009132385253906, 1.481759786605835, 2.8111915588378906, 0.8885852098464966, 0.8885852694511414, 0.888585090637207, 0.8885852098464966, 0.8885849714279175, 0.8885852098464966, 0.8885850310325623, 0.8885849714279175, 0.8885849714279175, 0.8885849118232727, 1.1060434579849243, 1.1060580015182495, 1.1060627698898315, 1.1060709953308105, 8.554380416870117, 8.554487228393555, 1.1060795783996582, 1.1060848236083984, 1.1060868501663208, 1.1060936450958252, 1.1060960292816162, 1.2280020713806152, 1.1060991287231445, 1.1061017513275146, 2.0501136779785156, 2.511690378189087, 1.9308620691299438, 1.9308971166610718, 1.2280259132385254, 1.2280302047729492, 1.2280339002609253, 1.251862645149231, 0.8885849118232727, 0.8885849714279175, 0.8885849714279175, 0.8885849714279175, 0.8885850310325623, 0.888585090637207, 0.8885852098464966, 0.8885852098464966, 0.8885852694511414, 0.8885852098464966, 1.469330072402954, 1.4693324565887451, 2.0501136779785156, 0.9009130597114563, 0.9009130597114563, 0.900912880897522, 0.9009131193161011, 0.9009131789207458, 0.9009129405021667, 0.9009130001068115, 0.9009132385253906, 0.900912880897522, 0.900912880897522, 0.9009130597114563, 0.9009131193161011, 0.9009130001068115, 0.9009130001068115, 1.1060434579849243, 1.1060580015182495, 8.554380416870117, 8.554487228393555, 1.2282404899597168, 1.2282406091690063, 1.228240728378296, 1.228240966796875, 1.228240966796875, 1.931200385093689, 2.8111915588378906, 1.228245735168457, 1.228245735168457, 1.2282459735870361, 1.2282458543777466, 1.2282460927963257, 2.511690378189087, 1.2282458543777466, 1.1062040328979492, 1.1062041521072388, 1.1062040328979492, 1.1062041521072388, 1.1062040328979492, 1.1062040328979492, 1.1062039136886597, 1.1062040328979492, 1.1062040328979492, 1.1062040328979492, 1.1062039136886597, 1.1062039136886597, 1.1062037944793701, 1.1062037944793701, 1.106132984161377, 1.1061171293258667, 1.1061155796051025, 1.106107234954834, 1.1061009168624878, 1.1060991287231445, 1.1061044931411743, 1.1061019897460938, 1.1061022281646729, 1.1061017513275146, 1.1060936450958252, 1.1060960292816162, 1.1060868501663208, 1.1060848236083984, 1.1060709953308105, 1.1060795783996582, 2.0501136779785156, 8.554487228393555, 8.554380416870117, 1.7098932266235352, 1.8089439868927002, 2.511690378189087, 1.481759786605835], \"loglift\": [30.0, 29.0, 28.0, 27.0, 26.0, 25.0, 24.0, 23.0, 22.0, 21.0, 20.0, 19.0, 18.0, 17.0, 16.0, 15.0, 14.0, 13.0, 12.0, 11.0, 10.0, 9.0, 8.0, 7.0, 6.0, 5.0, 4.0, 3.0, 2.0, 1.0, 0.7175999879837036, 0.7175999879837036, 0.7174000144004822, 0.7172999978065491, 0.5640000104904175, 0.5640000104904175, 0.5640000104904175, 0.5640000104904175, 0.5640000104904175, 0.5640000104904175, 0.5640000104904175, 0.5640000104904175, 0.5640000104904175, 0.5640000104904175, 0.5640000104904175, 0.5640000104904175, 0.5640000104904175, 0.5640000104904175, 0.5640000104904175, 0.5640000104904175, 0.5640000104904175, 0.5640000104904175, 0.5640000104904175, 0.5640000104904175, 0.5640000104904175, 0.5640000104904175, 0.5640000104904175, 0.5640000104904175, 0.5640000104904175, 0.5640000104904175, 0.41499999165534973, 0.41499999165534973, 0.4542999863624573, 0.5640000104904175, 0.5640000104904175, 1.2252999544143677, 1.2252000570297241, 1.2252000570297241, 1.2252000570297241, 1.2252000570297241, 1.225100040435791, 1.225100040435791, 1.225100040435791, 1.225000023841858, 1.225000023841858, 1.0475000143051147, 1.0475000143051147, 1.0475000143051147, 1.0475000143051147, 1.0473999977111816, 1.0473999977111816, 1.0473999977111816, 1.0473999977111816, 1.0473999977111816, 1.0473999977111816, 1.0473999977111816, 1.0473999977111816, 1.0473999977111816, 1.0473999977111816, 1.0473999977111816, 1.0473999977111816, 1.0472999811172485, 1.0472999811172485, 1.0472999811172485, 1.0471999645233154, 0.7416999936103821, -0.3711000084877014, -0.37119999527931213, 0.6324999928474426, 1.7273000478744507, 1.7273000478744507, 1.7273000478744507, 1.7273000478744507, 1.7273000478744507, 1.7273000478744507, 1.7273000478744507, 1.7273000478744507, 1.7273000478744507, 1.7273000478744507, 1.7273000478744507, 1.7273000478744507, 1.7273000478744507, 1.7273000478744507, 1.2299000024795532, 0.5898000001907349, -0.050599999725818634, -0.050599999725818634, -0.050599999725818634, -0.050599999725818634, -0.050599999725818634, -0.050599999725818634, -0.050599999725818634, -0.050599999725818634, -0.050599999725818634, -0.050599999725818634, -0.265500009059906, -0.26579999923706055, -0.26600000262260437, -0.2662000060081482, -0.5230000019073486, -0.5232999920845032, -0.2662999927997589, -0.26649999618530273, -0.26660001277923584, -0.2667999863624573, -0.2667999863624573, -0.37040001153945923, -0.2669000029563904, -0.2669000029563904, -0.8788999915122986, -1.0829999446868896, -0.8215000033378601, -0.8220000267028809, -0.3707999885082245, -0.3707999885082245, -0.3709000051021576, 2.0251998901367188, 1.7618000507354736, 1.7618000507354736, 1.7618000507354736, 1.7618000507354736, 1.7618000507354736, 1.7618000507354736, 1.7618000507354736, 1.7618000507354736, 1.7618000507354736, 1.7618000507354736, 1.2589999437332153, 1.2589999437332153, 0.925599992275238, -0.043699998408555984, -0.043699998408555984, -0.043699998408555984, -0.043699998408555984, -0.043699998408555984, -0.043699998408555984, -0.043699998408555984, -0.043699998408555984, -0.043699998408555984, -0.043699998408555984, -0.043699998408555984, -0.043699998408555984, -0.043699998408555984, -0.043699998408555984, -0.24879999458789825, -0.24889999628067017, -0.503600001335144, -0.503600001335144, -0.35359999537467957, -0.35359999537467957, -0.35359999537467957, -0.35359999537467957, -0.35359999537467957, -0.8062000274658203, -1.1815999746322632, -0.35359999537467957, -0.35359999537467957, -0.35359999537467957, -0.35359999537467957, -0.35359999537467957, -1.069000005722046, -0.35359999537467957, 1.0932999849319458, 1.0932999849319458, 1.0932999849319458, 1.0932999849319458, 1.0932999849319458, 1.0932999849319458, 1.0932999849319458, 1.0932999849319458, 1.0932999849319458, 1.0932999849319458, 1.0932999849319458, 1.0932999849319458, 1.0932999849319458, 1.0932999849319458, 1.093000054359436, 1.093000054359436, 1.093000054359436, 1.093000054359436, 1.092900037765503, 1.092900037765503, 1.092900037765503, 1.092900037765503, 1.092900037765503, 1.092900037765503, 1.092900037765503, 1.092900037765503, 1.092900037765503, 1.092900037765503, 1.092900037765503, 1.0928000211715698, 1.0819000005722046, -0.34540000557899475, -0.34549999237060547, 0.6581000089645386, 0.6015999913215637, 0.27309998869895935, 0.8008000254631042], \"logprob\": [30.0, 29.0, 28.0, 27.0, 26.0, 25.0, 24.0, 23.0, 22.0, 21.0, 20.0, 19.0, 18.0, 17.0, 16.0, 15.0, 14.0, 13.0, 12.0, 11.0, 10.0, 9.0, 8.0, 7.0, 6.0, 5.0, 4.0, 3.0, 2.0, 1.0, -3.9855000972747803, -3.9855000972747803, -3.9858999252319336, -3.9860000610351562, -4.591700077056885, -4.591700077056885, -4.591700077056885, -4.591700077056885, -4.591700077056885, -4.591700077056885, -4.591700077056885, -4.591700077056885, -4.591700077056885, -4.591700077056885, -4.591700077056885, -4.591700077056885, -4.591700077056885, -4.591700077056885, -4.591700077056885, -4.591700077056885, -4.591700077056885, -4.591700077056885, -4.591700077056885, -4.591700077056885, -4.591700077056885, -4.591700077056885, -4.591700077056885, -4.591700077056885, -4.591700077056885, -4.591700077056885, -2.799799919128418, -2.799799919128418, -3.9860000610351562, -4.591700077056885, -4.591700077056885, -3.586199998855591, -3.5862998962402344, -3.5862998962402344, -3.5862998962402344, -3.586400032043457, -3.586400032043457, -3.586400032043457, -3.5864999294281006, -3.5864999294281006, -3.5866000652313232, -4.192299842834473, -4.192399978637695, -4.192399978637695, -4.192399978637695, -4.192399978637695, -4.192399978637695, -4.192500114440918, -4.192500114440918, -4.192500114440918, -4.192500114440918, -4.192500114440918, -4.192500114440918, -4.192500114440918, -4.192500114440918, -4.192500114440918, -4.192500114440918, -4.192500114440918, -4.192599773406982, -4.192599773406982, -4.192699909210205, -3.5859999656677246, -3.5859999656677246, -3.5859999656677246, -4.192399978637695, -3.738300085067749, -3.738300085067749, -3.738300085067749, -3.738300085067749, -3.738300085067749, -3.738300085067749, -3.738300085067749, -3.738300085067749, -3.738300085067749, -3.738300085067749, -3.738300085067749, -3.738300085067749, -3.738300085067749, -3.738300085067749, -3.738100051879883, -3.7379000186920166, -5.530099868774414, -5.530099868774414, -5.530099868774414, -5.530099868774414, -5.530099868774414, -5.530099868774414, -5.530099868774414, -5.530099868774414, -5.530099868774414, -5.530099868774414, -5.526000022888184, -5.526299953460693, -5.526500225067139, -5.526700019836426, -3.737799882888794, -3.738100051879883, -5.526800155639648, -5.5269999504089355, -5.527100086212158, -5.527200222015381, -5.527299880981445, -5.526299953460693, -5.527299880981445, -5.527400016784668, -5.522299766540527, -5.523399829864502, -5.524799823760986, -5.525300025939941, -5.526700019836426, -5.526700019836426, -5.526800155639648, -3.1115000247955322, -3.717600107192993, -3.717600107192993, -3.717600107192993, -3.717600107192993, -3.717600107192993, -3.717600107192993, -3.717600107192993, -3.717600107192993, -3.717600107192993, -3.717600107192993, -3.7174999713897705, -3.7174999713897705, -3.7177999019622803, -5.509300231933594, -5.509300231933594, -5.509300231933594, -5.509300231933594, -5.509300231933594, -5.509300231933594, -5.509300231933594, -5.509300231933594, -5.509300231933594, -5.509300231933594, -5.509300231933594, -5.509300231933594, -5.509300231933594, -5.509300231933594, -5.509300231933594, -5.509300231933594, -3.718400001525879, -3.718400001525879, -5.509300231933594, -5.509300231933594, -5.509300231933594, -5.509300231933594, -5.509300231933594, -5.509300231933594, -5.509300231933594, -5.509300231933594, -5.509300231933594, -5.509300231933594, -5.509300231933594, -5.509300231933594, -5.509300231933594, -5.509300231933594, -4.166999816894531, -4.166999816894531, -4.166999816894531, -4.166999816894531, -4.166999816894531, -4.166999816894531, -4.166999816894531, -4.166999816894531, -4.166999816894531, -4.166999816894531, -4.166999816894531, -4.166999816894531, -4.166999816894531, -4.166999816894531, -4.167399883270264, -4.167500019073486, -4.167500019073486, -4.167500019073486, -4.167500019073486, -4.167500019073486, -4.167500019073486, -4.167500019073486, -4.167500019073486, -4.167500019073486, -4.167500019073486, -4.167500019073486, -4.167600154876709, -4.167600154876709, -4.167600154876709, -4.167600154876709, -3.561500072479248, -3.56030011177063, -3.56030011177063, -4.1666998863220215, -4.166999816894531, -4.167200088500977, -4.167200088500977]}, \"token.table\": {\"Topic\": [2, 1, 1, 1, 1, 1, 1, 5, 5, 1, 1, 1, 2, 5, 1, 2, 1, 5, 5, 5, 2, 5, 5, 5, 1, 1, 1, 2, 5, 2, 2, 5, 1, 2, 1, 2, 5, 1, 2, 2, 1, 2, 2, 1, 1, 1, 2, 1, 1, 2, 1, 2, 5, 1, 5, 1, 5, 5, 2, 5, 1, 1, 1, 5, 2, 1, 2, 5, 2, 1, 1, 5, 5, 5, 2, 1, 2, 5, 1, 1, 5, 5, 1, 5, 1, 2, 5, 2, 5, 2, 1, 2, 1, 2, 2, 5, 5, 1, 2, 5, 1, 5, 2, 5, 1, 5, 1, 5, 1, 5, 1, 5, 5, 1, 1, 5, 1, 2, 5, 2, 4, 1, 2, 1, 1, 2, 5, 5], \"Freq\": [0.8856692314147949, 0.8141727447509766, 0.8141689896583557, 1.0357879400253296, 0.8141689896583557, 0.8141725063323975, 0.8141691088676453, 0.9039923548698425, 0.9039923548698425, 1.0356253385543823, 0.8141691088676453, 0.8141691088676453, 0.8856709003448486, 0.9040940999984741, 0.8141691088676453, 0.8856715559959412, 1.0358067750930786, 0.9040757417678833, 0.9039923548698425, 0.9041236042976379, 0.8856669068336487, 0.9039924740791321, 0.9040881395339966, 0.9040504097938538, 0.8141691088676453, 0.8141689300537109, 0.81416916847229, 0.8856699466705322, 0.9041078090667725, 0.8856701254844666, 0.8856702446937561, 0.9040781259536743, 0.8141691088676453, 0.5770745873451233, 1.035623550415039, 0.8856692314147949, 0.9041010737419128, 0.35572105646133423, 0.35572105646133423, 0.8856703639030457, 0.8141689896583557, 0.885669469833374, 0.8856678009033203, 0.8141689896583557, 0.81416916847229, 0.8141691088676453, 0.577074408531189, 0.8141691088676453, 0.8143097758293152, 0.8856738209724426, 0.8141689896583557, 0.5770739912986755, 0.9039923548698425, 0.5528087019920349, 0.5528087019920349, 0.8141691088676453, 0.9039924740791321, 0.9040737152099609, 0.8856692314147949, 0.9039922952651978, 0.8141691088676453, 0.8141725063323975, 0.7962765097618103, 0.39813825488090515, 0.5770729184150696, 0.81416916847229, 0.8856692314147949, 0.9039924740791321, 0.5770721435546875, 0.8141691088676453, 0.8141693472862244, 0.9039923548698425, 0.9040634036064148, 0.9040646553039551, 0.5770750641822815, 0.8141728043556213, 0.8856698870658875, 0.9039923548698425, 0.8141692280769348, 0.8143308758735657, 0.9041117429733276, 0.9040898084640503, 0.8141689300537109, 0.9039925336837769, 0.584488570690155, 0.11689771711826324, 0.11689771711826324, 0.577075719833374, 0.9040714502334595, 0.5770784616470337, 0.8141689896583557, 0.8856719136238098, 0.814312219619751, 0.5770745277404785, 0.8856753706932068, 0.9040766358375549, 0.9039925336837769, 0.8141692280769348, 0.8856680989265442, 0.9039922952651978, 0.8141689896583557, 0.9040806293487549, 0.5770760178565979, 0.9040759801864624, 0.8141689896583557, 0.9039923548698425, 0.814172625541687, 0.9040825963020325, 0.8143150806427002, 0.6805822849273682, 0.8141693472862244, 0.6805811524391174, 0.904075562953949, 0.8141691088676453, 0.81416916847229, 0.48777782917022705, 0.81416916847229, 0.5848318338394165, 0.5848318338394165, 0.8856703639030457, 0.7988097071647644, 0.8141689896583557, 0.8856735229492188, 0.8141689896583557, 0.5844958424568176, 0.11689916998147964, 0.11689916998147964, 0.6748732328414917], \"Term\": [\"35-37\", \"Assiri\", \"Despite\", \"Khuroo\", \"Legro\", \"MERS-CoV\", \"Since\", \"These\", \"activity\", \"admission\", \"anemia\", \"anti-malarial\", \"antibiotic\", \"antiretroviral\", \"aplastic\", \"assess\", \"associate\", \"avoidance\", \"baby\", \"breastfeed\", \"carrier\", \"carry\", \"cesarean\", \"childhood\", \"chronic\", \"clinically\", \"clomiphene\", \"colonization\", \"combine\", \"consensus\", \"contribute\", \"country\", \"crisis\", \"culture\", \"death\", \"decline\", \"decrease\", \"disease\", \"disease\", \"document\", \"effects\", \"either\", \"factor\", \"fetal\", \"fetalis\", \"fewer\", \"first\", \"found\", \"fulminant\", \"gestation\", \"given\", \"guideline\", \"handling\", \"healthy\", \"healthy\", \"hemolytic\", \"household\", \"impact\", \"incidence\", \"increase\", \"infant\", \"infect\", \"infection\", \"infection\", \"intrapartum\", \"intrauterine\", \"invasive\", \"involve\", \"issuance\", \"large\", \"leading\", \"member\", \"mortality\", \"mother\", \"national\", \"need\", \"obstetric\", \"otherwise\", \"outcome\", \"particularly\", \"perinatal\", \"permit\", \"population\", \"poultry\", \"pregnant\", \"pregnant\", \"pregnant\", \"prenatal\", \"prevalence\", \"prevention\", \"primary\", \"prophylaxis\", \"rates\", \"recommend\", \"rectovaginal\", \"region\", \"relate\", \"relatively\", \"revise\", \"routinely\", \"safely\", \"schedule\", \"screening\", \"section\", \"significant\", \"situation\", \"study\", \"subsequent\", \"symptom\", \"testing\", \"therapeutic\", \"therapy\", \"together\", \"toxic\", \"transient\", \"transmission\", \"trial\", \"universal\", \"universal\", \"using\", \"viral\", \"virus\", \"week\", \"widely\", \"woman\", \"woman\", \"woman\", \"young\"]}, \"R\": 30, \"lambda.step\": 0.01, \"plot.opts\": {\"xlab\": \"PC1\", \"ylab\": \"PC2\"}, \"topic.order\": [1, 2, 3, 4, 5]};\n",
       "\n",
       "function LDAvis_load_lib(url, callback){\n",
       "  var s = document.createElement('script');\n",
       "  s.src = url;\n",
       "  s.async = true;\n",
       "  s.onreadystatechange = s.onload = callback;\n",
       "  s.onerror = function(){console.warn(\"failed to load library \" + url);};\n",
       "  document.getElementsByTagName(\"head\")[0].appendChild(s);\n",
       "}\n",
       "\n",
       "if(typeof(LDAvis) !== \"undefined\"){\n",
       "   // already loaded: just create the visualization\n",
       "   !function(LDAvis){\n",
       "       new LDAvis(\"#\" + \"ldavis_el2909665839496482439627678\", ldavis_el2909665839496482439627678_data);\n",
       "   }(LDAvis);\n",
       "}else if(typeof define === \"function\" && define.amd){\n",
       "   // require.js is available: use it to load d3/LDAvis\n",
       "   require.config({paths: {d3: \"https://cdnjs.cloudflare.com/ajax/libs/d3/3.5.5/d3.min\"}});\n",
       "   require([\"d3\"], function(d3){\n",
       "      window.d3 = d3;\n",
       "      LDAvis_load_lib(\"https://cdn.rawgit.com/bmabey/pyLDAvis/files/ldavis.v1.0.0.js\", function(){\n",
       "        new LDAvis(\"#\" + \"ldavis_el2909665839496482439627678\", ldavis_el2909665839496482439627678_data);\n",
       "      });\n",
       "    });\n",
       "}else{\n",
       "    // require.js not available: dynamically load d3 & LDAvis\n",
       "    LDAvis_load_lib(\"https://cdnjs.cloudflare.com/ajax/libs/d3/3.5.5/d3.min.js\", function(){\n",
       "         LDAvis_load_lib(\"https://cdn.rawgit.com/bmabey/pyLDAvis/files/ldavis.v1.0.0.js\", function(){\n",
       "                 new LDAvis(\"#\" + \"ldavis_el2909665839496482439627678\", ldavis_el2909665839496482439627678_data);\n",
       "            })\n",
       "         });\n",
       "}\n",
       "</script>"
      ],
      "text/plain": [
       "<IPython.core.display.HTML object>"
      ]
     },
     "execution_count": 165,
     "metadata": {},
     "output_type": "execute_result"
    }
   ],
   "source": [
    "dictionary = gensim.corpora.Dictionary.load('dictionary.gensim')\n",
    "corpus = pickle.load(open('corpus.pkl', 'rb'))\n",
    "lda = gensim.models.ldamodel.LdaModel.load('model5.gensim')\n",
    "import pyLDAvis.gensim\n",
    "lda_display = pyLDAvis.gensim.prepare(lda, corpus, dictionary, sort_topics=False)\n",
    "pyLDAvis.display(lda_display)"
   ]
  },
  {
   "cell_type": "code",
   "execution_count": null,
   "metadata": {},
   "outputs": [],
   "source": []
  }
 ],
 "metadata": {
  "kernelspec": {
   "display_name": "Python 3",
   "language": "python",
   "name": "python3"
  },
  "language_info": {
   "codemirror_mode": {
    "name": "ipython",
    "version": 3
   },
   "file_extension": ".py",
   "mimetype": "text/x-python",
   "name": "python",
   "nbconvert_exporter": "python",
   "pygments_lexer": "ipython3",
   "version": "3.7.7"
  }
 },
 "nbformat": 4,
 "nbformat_minor": 2
}
