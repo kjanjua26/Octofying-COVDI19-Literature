{
 "cells": [
  {
   "cell_type": "markdown",
   "metadata": {},
   "source": [
    "## Data Explainability and Visualization\n",
    "In this notebook, we perform exploratory data analysis on the published literature on COVID-19 and try to answer some basic questions such as\n",
    "\n",
    "1. What is known about transmission, incubation, and environmental stability?\n",
    "2. What do we know about COVID-19 risk factors?\n",
    "3. Best medical care?\n",
    "4. How the COVID-19 spreads and evolves?\n",
    "5. What are some of the most promising vaccines available (if at all)?\n",
    "\n",
    "Answering these questions will help clear doubts and answer basic questions with ease."
   ]
  },
  {
   "cell_type": "code",
   "execution_count": 87,
   "metadata": {},
   "outputs": [],
   "source": [
    "# handling imports\n",
    "import pandas as pd\n",
    "import numpy as np\n",
    "import matplotlib.pyplot as plt\n",
    "from matplotlib import style\n",
    "import tqdm, os, re, glob, json\n",
    "from IPython.display import display\n",
    "style.use('ggplot')\n",
    "%matplotlib inline"
   ]
  },
  {
   "cell_type": "code",
   "execution_count": 4,
   "metadata": {},
   "outputs": [],
   "source": [
    "basepath = \"/Users/Janjua/Desktop/Projects/Octofying-COVID19-Literature/dataset\"\n",
    "datapath = \"CORD-19-research-challenge\""
   ]
  },
  {
   "cell_type": "code",
   "execution_count": 9,
   "metadata": {},
   "outputs": [
    {
     "name": "stdout",
     "output_type": "stream",
     "text": [
      "Total papers found:  33375\n",
      "['/Users/Janjua/Desktop/Projects/Octofying-COVID19-Literature/dataset/CORD-19-research-challenge/custom_license/custom_license/86a998617c077f4fe2ab26214995a3548fbc0fc5.json']\n"
     ]
    }
   ],
   "source": [
    "papers = [x for x in glob.glob(os.path.join(basepath, datapath) + \"/*/*/*.json\")]\n",
    "print('Total papers found: ', len(papers))\n",
    "print(papers[:1])"
   ]
  },
  {
   "cell_type": "code",
   "execution_count": 18,
   "metadata": {},
   "outputs": [
    {
     "name": "stdout",
     "output_type": "stream",
     "text": [
      "====================================================================================================\n",
      "Title:  Middle East Respiratory Syndrome and Severe Acute Respiratory Syndrome\n",
      "====================================================================================================\n",
      "Abstract:  The recent emergence of the Middle East respiratory syndrome (MERS)-CoV, a close relative of the Severe Acute respiratory syndrome (SARS)-CoV, both of which caused a lethal respiratory infection in humans, reinforces the need for further understanding of coronavirus pathogenesis and the host immune response. These viruses have evolved diverse strategies to evade and block host immune responses, facilitating infection and transmission. Pathogenesis following infection with these viruses is characterized by a marked delay in the induction of Type I interferon (IFN I) and, subsequently, by a poor adaptive immune response. Therapies that expedite IFN I induction as well as interventions that antagonize immunoevasive virus proteins are thus promising candidates for immune modulation.\n",
      "====================================================================================================\n",
      "Paper Contents:  While most CoVs cause the common cold in humans, infection with two recently emerged CoVs, SARS-CoV and MERS-CoV, resulted in more severe pulmonary disease with alarmingly high case fatality rates [1] . SARS-CoV first emerged in Guangdong province of China in the winter of 2002 [2] . With a high rate of nosocomial transmission to healthcare professionals combined with a lack of precedence for a CoV outbreak, SARS-CoV spread across 29 countries infecting more than 8000 humans and resulting in a staggering 774 deaths (~10%) [3] . MERS-CoV was first reported in Saudi Arabia a decade later in June 2012 [4] . Cases were also detected in other parts of the Middle East including Jordan, Qatar, Oman and the United Arab Emirates. Virus was spread by travellers from the Arabian peninsula to Europe, Africa and other regions of Asia including, most recently, the Republic of Korea, infecting a total of 1626 people, with a case fatality rate of 36.0%, as of January 11, 2015 [5] [6] [7] [8] . Both of these outbreaks were notably characterized by an age-dependent increase in morbidity and mortality. Thus, during the SARS epidemic no patients under the age of 24 years died, while mortality was more than 50% in those over 65 years of age [9] .\n",
      "\n",
      "Similarly, MERS also has a similar age-dependent pattern with elderly patients showing signs of more severe disease. MERS tends to be most severe in patients with co-morbidities such as diabetes, chronic pulmonary disease and renal disease [10] . While no more SARS cases were reported since 2004, new MERS cases continue to appear. The respiratory route of transmission of MERS-CoV combined with the geographical location of its persistence makes MERS a serious public health threat that if not curtailed, has the potential to develop as a major epidemic in the years to come. Although no MERS cases have been associated with the Hajj and Umrah pilgrimages, such large gatherings make this a potentially major problem [1] . In spite of the efforts by researchers across the globe, no effective drug treatments or vaccines have been formulated to control SARS or MERS. In this review we summarize the similarities and differences between SARS and MERS-CoV with an emphasis on the key features of the host immune response and tactics used by the viruses to evade the immune response.\n",
      "\n",
      "Coronaviruses are enveloped RNA viruses that fall under the Nidovirus superfamily ( Figures  1, 2) . With a positive-sense single-stranded RNA genome of 31 kb, coronaviruses contain the largest RNA genome identified to date [11] . Both SARS and MERS-CoVs are betacoronaviruses, belonging to lineages b and c respectively. They share similar genomic structures with multiple open reading frames (ORFs). While the genes required for viral RNA replication are located on the 5'-terminal two thirds of the genome, those that encode the structural proteins are located on the 3' end [11] . Other genes, which encode accessory proteins not required for virus replication and viability, are distributed throughout the structural genes. MERS-CoV has five different accessory proteins while SARS-CoV has eight of them ( Figure 1 ) [12] . Some of these genes including some of the non-structural proteins encoded at the 5' end of the genome are involved in induction and modulation of innate immune responses in the host (humans).\n",
      "\n",
      "The initiation of infection by CoVs begins with entry into host cells. Being close relatives in the phylogenetic tree, it may not be surprising that both SARS-CoV and MERS-CoV utilize large ectopeptidases on the surface of the host cell to gain entry; SARS-CoV binds to angiotensin converting enzyme 2 (ACE-2) and MERS-CoV attaches to dipeptidyl peptidase 4 (DPP4) [13, 14] . While it has been shown that the spike (S) glycoprotein of SARS-CoV underwent extensive mutation in the region that binds to ACE2 [15] , facilitating species to species transmission, the glycoprotein of MERS-CoV has not undergone substantial change in the DPP4-binding region during passage in humans [16, 17] . The absence of any mutation in DPP4-binding region suggests that receptor binding is not the rate-limiting step in virus transmission and human adaptation. After binding to their respective receptors, proteolytic cleavage of the S protein results in virus-cell fusion and release of genomic RNA into the cytosol of the host cell. Following the release of RNA, the virus undergoes transcription and replication on rearranged host membranes, including double-membrane vesicles (DMVs) [18] . Newly synthesized RNA is encapsidated within the nucleocapsid protein and then buds into vesicles derived from the endoplasmic reticulum-golgi intermediate compartment (ERGIC) for further assembly into new virions. These vesicles are eventually transported to the cell surface to be released outside the cell. Vijay Seroprevalence studies strongly support the notion that camels are one, if not the only, reservoir of MERS-CoV [17, [19] [20] [21] [22] [23] . Transmission from camels to humans is likely, although not all MERS patients have a history of direct camel exposure [24] . This could mean that other means of indirect transmission like consumption of camel milk or meat or transfer from an intermediate host to humans contribute to spread [20] .\n",
      "\n",
      "All successful viruses have devised strategies to evade immune recognition by the host. These include mechanisms that are both active and passive. Common strategies are to delay the induction of the IFN response, block IFN signaling or counter the action of downstream effector molecules. Coronavirus RNA is not recognized in several cell types, partly because double stranded RNA, which is a potent inducer of IFN is shielded from recognition by intracellular helical sensors, such as RIG-I and MDA5, by containment in membranous structures, such as double membrane vesicles (DMVs) during replication [25, 26] . Also viral proteins nsp1, nsp3, nsp16, N protein, SARS-CoV ORF6 and ORF3b and MERS-CoV 4a and 4b inhibit IFN induction or signaling ( Figure 3 ). Nsp1 inhibits IFN signaling in SARS-CoV infected cells by inhibiting phosphorylation of STAT1 as well as by promoting host gene mRNA degradation [12] . Nsp1 also inhibits host gene expression by binding to the 40S ribosomal subunit and by inactivating the translation activity of the ribosomes. Nsp3 through its papain-like protease (PLP) domain inhibits IFN I production by deubiquitinating IRF3 and prevents its nuclear translocation [27] . PLP physically interacts with TRAF3, TBK1, IKKε, STING and IRF3, and inhibits phosphorylation and dimerization of IRF3 inhibiting IFN expression [28] . Nsp16, by effecting 2'-O methylation, renders viral RNA indistinguishable from host cell RNA [29, 30] . N protein inhibits activator protein 1 (AP1) signaling and protein kinase R (PKR) function as well as nuclear factor-κB (NFκB) activation [12] . The ORF6 protein inhibits IFN signaling by binding to karyopherin-α2, which prevents nuclear translocation of proteins containing classical nuclear import signals, including STAT1, crucial for IFN signaling [31] . MERS-CoV accessory protein ORF4a antagonizes IFN induction through MDA5 by sequestrating viral dsRNA and preventing it from binding to MDA5 [32] [33] [34] . MERS-CoV also encodes accessory protein ORF4b, which has been shown to localize to the nucleus and inhibit IFN I synthesis and NFκB signaling pathways [27] .\n",
      "\n",
      "Further insights into the immune response against MERS-CoV are hindered by the absence of a good animal model that recapitulates the human disease. Mouse DPP4 does not support MERS-CoV replication but mice are susceptible if hDPP4 is supplied exogenously using a replication deficient adeno-virus expressing hDPP4 (Ad5-hDPP4) or if mice are transgenic or \"knocked-in\" for hDPP4 [35] [36] [37] . Use of Ad5-hDPP4 transduction allows genetically deficient mice to be infected without additional crossing. MERS-CoV infection of transduced Ad5-hDPP4 demonstrated the need for IFN I induction for protection and showed that virus-specific T cells were required for MERS-CoV clearance. Rabbits, macaques and marmosets can also be infected with MERS-CoV although these animals develop few signs of clinical disease (rabbits, macaques) or are difficult to obtain (marmosets) [38] [39] [40] [41] . Rabbits and macaques may be useful for study of mild human disease but not for understanding pathogenesis in severely ill patients. The anti-virus T cell response is critical for virus clearance. The T cell response is initiated by the uptake of viral antigen (Ag) by respiratory dendritic cells (rDC) and rDC migration to draining lymph nodes (DLN), where they prime naïve virus specific T cells. Following priming, naïve T cell undergo activation and clonal proliferation, which then migrate from the DLN to the site of infection (lungs). At this site, they secrete various anti-viral chemokines, cytokines and cytotoxic molecules that can directly or indirectly inhibit viral replication. Severely ill MERS and SARS patients exhibited severe leukopenia with marked lymphopenia, impaired activation of T cells and poor anti-virus antibody responses contributing to delayed kinetics of virus clearance [9, 42] . In addition, an effective T cell response is required to shut off the initial cytokine response. Thus, severe SARS was also characterized by prolonged cytokine and interferon expression, contributing to a \"cytokine storm\" in these patients. Studies of virus-specific CD4 and CD8 T cells in patients recovered from SARS identified several immunogenic epitopes localized to the spike (S) and nucleocapsid (N) proteins [43] . However no information is available yet regarding the T cell epitopes recognized in MERS-CoV-infected patients.\n",
      "\n",
      "As in many viral infections, development of neutralizing antibodies is required to prevent infection after secondary exposure to the pathogen. The anti-SARS-CoV antibody response appeared to be transient, with antibodies not detected 6 years after infection. In contrast, T cell responses were still detectable. [44] . The transient nature of the antibody response raises concerns that SARS recovered patients, if reinfected, would not be protected from severe disease. Of note, none of these studies examined the mucosal antibody response, which may be very important for protection.\n",
      "\n",
      "Mouse and macaque models of SARS infection have provided a wealth of knowledge regarding the immune response against CoV in general and SARS-CoV in particular. Human strains of SARS-CoV infect macaques and mice but generally do not cause significant clinical disease [45] . However, upon mouse adaptation, the virus causes severe disease, characterized by a lethal respiratory infection [46] . In some strains, young (6-10 week) mice are completely resistant to disease, remaining without signs of disease even in the absence of Type 1 interferon signaling, while others are highly sensitive [31] . Aged mice of all strains are susceptible to disease, mimicking the age-dependent susceptibility observed in humans. SARS-CoV-infected mice have been useful for identifying host genes important in pathogenesis. Studies with mouse adapted SARS-CoV showed that more severe disease was characterized by inefficient immune activation, such as reduced expression of MHCII, CD86, accompanied by poor CD4 and CD8 T cell responses. Reversing inefficient activation of innate immune cells in mice using TLR ligands such as poly I-C or by depleting inhibitory alveolar macrophages using clodronate liposomes rescued mice from lethal disease [47] . These interventions resulted in enhanced migration of dendritic cells to draining lymph nodes and consequent development of a protective T cell response and enhanced kinetics of virus clearance. Experiments with macaques also showed that aged macaques developed a robust, but dysregulated host innate response against SARS-CoV compared to young animals and this correlated with worse outcomes after infection [48] .\n",
      "\n",
      "Another study showed that age-dependent increases in the levels of a prostaglandin, PGD 2 , in the lungs of aged mice inhibited rDC migration to DLN, which in turn impeded virus- specific T cell responses, rendering aged mice susceptible to severe SARS-CoV infection [49] . Blockade of PGD 2 signaling through its receptor, DP1, resulted in enhanced rDC migration to DLN and virus-specific T cell responses. Given the propensity of MERS-CoV to cause severe disease in aged individuals, it is likely that PGD 2 has a similar role in the context of MERS-CoV infections.\n",
      "\n",
      "Delayed immune activation was also observed in SARS-CoV-infected human macrophages and dendritic cells, suggesting that the virus is able to evade the immune response. Further SARS-CoV only abortively infects DCs and macrophages [9] . In contrast, MERS-CoV productively infects human macrophages [50] . Notably, MERS-CoV additionally infects activated T cells, which may contribute to disease severity [51] . Similar effects occur in infected airway epithelial cells, the first target cell for SARS-CoV and MERS-CoV replication. One study compared infection of human epithelial Calu-3 2B4 cells with MERS-CoV and SARS-CoV, highlighting and contrasting the potential antiviral mechanisms mounted by the host against the two viruses. Infection of these cells induced activation of several RNA sensors at approximately the same time post infection. However the IFN response was slightly delayed in cells infected with SARS-CoV compared to MERS-CoV. Additionally, a notable difference was the specific down regulation of the antigen presentation pathway after MERS-CoV infection, which was upregulated after SARS-CoV infection [52] . Thus, although these two viruses are closely related to one another and both elicit delayed immune responses, they induce a significantly different host transcriptional response, suggesting that 'MERS is not SARS'.\n",
      "\n",
      "The ease with which SARS-CoV and MERS-CoV, as well as other respiratory coronaviruses such as HCoV-OC43 [53, 54, 16] crossed species to infect humans make it all the more likely that serious CoV outbreaks will continue to emerge. Fittingly, exactly a decade after SARS, MERS emerged with an even higher mortality rate. Three years after the emergence of MERS, the lack of detailed information about the human disease and of a broadly useful animal model has hindered progress in understanding MERS-CoV disease and immune responses. The recent outbreak in South Korea with over 180 cases emphasizes the importance of instituting proper infection control measures, especially in hospital settings and in developing vaccines and drugs to counter the virus.\n",
      "\n",
      "• MERS-CoV is a newly emerging betacoronavirus causing lethal human respiratory infection.\n",
      "\n",
      "• MERS-CoV is transmitted from camels in the Arabian peninsula.\n",
      "\n",
      "• Susceptibility to MERS-CoV infection is greatest in individuals with underlying morbidities.\n",
      "\n",
      "• No vaccines or anti-viral therapies are available for prophylaxis or treatment.\n",
      "\n",
      "• MERS-CoV and SARS-CoV have evolved effective immune evasion strategies. Signaling of MAVS results in activation of various kinases, which phosphorylate IRF3, resulting in its dimerization and trafficking to the nucleus for inducing IFN I production. IFN I thus produced will signal through IFNα/β receptor resulting in its phosphorylation by JAK1 and TYK1. This will result in STAT1/STAT2 complex formation, activation and localization into the nucleus using import factors such as karyopherin α1 (Kα1) and karyopherin α2 (Kα2), which will activate various interferon stimulated response elements (ISREs) to bring about an antiviral state. As depicted in the schematic, CoVs have developed strategies to evade/inhibit host innate immune functions, some of which are specific to SARS-CoV [26] (blue) and MERS-CoV (magenta) and some which are shared between the two viruses (red). Nsp1 inhibits phosphorylation of STAT1, promotes host gene mRNA degradation, and also inhibits host mRNA translation. Nsp3 interacts with IRF3, inhibiting its phosphorylation, dimerization and nuclear translocation. Nsp16 renders the virus unrecognizable by cellular sensors MDA5 and RIG-I. N protein inhibits AP1 and NFκB signaling and PKR function. \n",
      "\n",
      "\n",
      "====================================================================================================\n"
     ]
    }
   ],
   "source": [
    "for paper in papers:\n",
    "    read_paper = json.load(open(paper))\n",
    "    title = read_paper['metadata']['title']\n",
    "    try:\n",
    "        abstract = read_paper['abstract'][0]['text']\n",
    "    except:\n",
    "        abstract = \"No abstract found\"\n",
    "    paper_text = \"\"\n",
    "    for text in read_paper['body_text']:\n",
    "        paper_text += text['text'] + '\\n\\n'\n",
    "    print(\"=\"*100)\n",
    "    print('Title: ', title)\n",
    "    print(\"=\"*100)\n",
    "    print('Abstract: ', abstract)\n",
    "    print(\"=\"*100)\n",
    "    print('Paper Contents: ', paper_text)\n",
    "    print(\"=\"*100)\n",
    "    break"
   ]
  },
  {
   "cell_type": "code",
   "execution_count": 22,
   "metadata": {},
   "outputs": [],
   "source": [
    "def draw_horizontal_lines(times):\n",
    "    print(\"=\"*times)\n",
    "    \n",
    "def read_papers():\n",
    "    papers_contents = []\n",
    "    for paper in tqdm.tqdm(papers):\n",
    "        read_paper = json.load(open(paper))\n",
    "        title = read_paper['metadata']['title']\n",
    "        try:\n",
    "            abstract = read_paper['abstract'][0]['text']\n",
    "        except:\n",
    "            abstract = \"No abstract found\"\n",
    "        paper_text = \"\"\n",
    "        for text in read_paper['body_text']:\n",
    "            paper_text += text['text'] + '\\n\\n'\n",
    "        papers_contents.append([title, abstract, paper_text])\n",
    "    return papers_contents"
   ]
  },
  {
   "cell_type": "code",
   "execution_count": 23,
   "metadata": {},
   "outputs": [
    {
     "name": "stderr",
     "output_type": "stream",
     "text": [
      "  0%|          | 58/33375 [00:00<00:58, 571.19it/s]"
     ]
    },
    {
     "name": "stdout",
     "output_type": "stream",
     "text": [
      "Reading Papers!\n",
      "====================================================================================================\n"
     ]
    },
    {
     "name": "stderr",
     "output_type": "stream",
     "text": [
      "100%|██████████| 33375/33375 [01:05<00:00, 508.82it/s]"
     ]
    },
    {
     "name": "stdout",
     "output_type": "stream",
     "text": [
      "['Middle East Respiratory Syndrome and Severe Acute Respiratory Syndrome', 'The recent emergence of the Middle East respiratory syndrome (MERS)-CoV, a close relative of the Severe Acute respiratory syndrome (SARS)-CoV, both of which caused a lethal respiratory infection in humans, reinforces the need for further understanding of coronavirus pathogenesis and the host immune response. These viruses have evolved diverse strategies to evade and block host immune responses, facilitating infection and transmission. Pathogenesis following infection with these viruses is characterized by a marked delay in the induction of Type I interferon (IFN I) and, subsequently, by a poor adaptive immune response. Therapies that expedite IFN I induction as well as interventions that antagonize immunoevasive virus proteins are thus promising candidates for immune modulation.', 'While most CoVs cause the common cold in humans, infection with two recently emerged CoVs, SARS-CoV and MERS-CoV, resulted in more severe pulmonary disease with alarmingly high case fatality rates [1] . SARS-CoV first emerged in Guangdong province of China in the winter of 2002 [2] . With a high rate of nosocomial transmission to healthcare professionals combined with a lack of precedence for a CoV outbreak, SARS-CoV spread across 29 countries infecting more than 8000 humans and resulting in a staggering 774 deaths (~10%) [3] . MERS-CoV was first reported in Saudi Arabia a decade later in June 2012 [4] . Cases were also detected in other parts of the Middle East including Jordan, Qatar, Oman and the United Arab Emirates. Virus was spread by travellers from the Arabian peninsula to Europe, Africa and other regions of Asia including, most recently, the Republic of Korea, infecting a total of 1626 people, with a case fatality rate of 36.0%, as of January 11, 2015 [5] [6] [7] [8] . Both of these outbreaks were notably characterized by an age-dependent increase in morbidity and mortality. Thus, during the SARS epidemic no patients under the age of 24 years died, while mortality was more than 50% in those over 65 years of age [9] .\\n\\nSimilarly, MERS also has a similar age-dependent pattern with elderly patients showing signs of more severe disease. MERS tends to be most severe in patients with co-morbidities such as diabetes, chronic pulmonary disease and renal disease [10] . While no more SARS cases were reported since 2004, new MERS cases continue to appear. The respiratory route of transmission of MERS-CoV combined with the geographical location of its persistence makes MERS a serious public health threat that if not curtailed, has the potential to develop as a major epidemic in the years to come. Although no MERS cases have been associated with the Hajj and Umrah pilgrimages, such large gatherings make this a potentially major problem [1] . In spite of the efforts by researchers across the globe, no effective drug treatments or vaccines have been formulated to control SARS or MERS. In this review we summarize the similarities and differences between SARS and MERS-CoV with an emphasis on the key features of the host immune response and tactics used by the viruses to evade the immune response.\\n\\nCoronaviruses are enveloped RNA viruses that fall under the Nidovirus superfamily ( Figures  1, 2) . With a positive-sense single-stranded RNA genome of 31 kb, coronaviruses contain the largest RNA genome identified to date [11] . Both SARS and MERS-CoVs are betacoronaviruses, belonging to lineages b and c respectively. They share similar genomic structures with multiple open reading frames (ORFs). While the genes required for viral RNA replication are located on the 5\\'-terminal two thirds of the genome, those that encode the structural proteins are located on the 3\\' end [11] . Other genes, which encode accessory proteins not required for virus replication and viability, are distributed throughout the structural genes. MERS-CoV has five different accessory proteins while SARS-CoV has eight of them ( Figure 1 ) [12] . Some of these genes including some of the non-structural proteins encoded at the 5\\' end of the genome are involved in induction and modulation of innate immune responses in the host (humans).\\n\\nThe initiation of infection by CoVs begins with entry into host cells. Being close relatives in the phylogenetic tree, it may not be surprising that both SARS-CoV and MERS-CoV utilize large ectopeptidases on the surface of the host cell to gain entry; SARS-CoV binds to angiotensin converting enzyme 2 (ACE-2) and MERS-CoV attaches to dipeptidyl peptidase 4 (DPP4) [13, 14] . While it has been shown that the spike (S) glycoprotein of SARS-CoV underwent extensive mutation in the region that binds to ACE2 [15] , facilitating species to species transmission, the glycoprotein of MERS-CoV has not undergone substantial change in the DPP4-binding region during passage in humans [16, 17] . The absence of any mutation in DPP4-binding region suggests that receptor binding is not the rate-limiting step in virus transmission and human adaptation. After binding to their respective receptors, proteolytic cleavage of the S protein results in virus-cell fusion and release of genomic RNA into the cytosol of the host cell. Following the release of RNA, the virus undergoes transcription and replication on rearranged host membranes, including double-membrane vesicles (DMVs) [18] . Newly synthesized RNA is encapsidated within the nucleocapsid protein and then buds into vesicles derived from the endoplasmic reticulum-golgi intermediate compartment (ERGIC) for further assembly into new virions. These vesicles are eventually transported to the cell surface to be released outside the cell. Vijay Seroprevalence studies strongly support the notion that camels are one, if not the only, reservoir of MERS-CoV [17, [19] [20] [21] [22] [23] . Transmission from camels to humans is likely, although not all MERS patients have a history of direct camel exposure [24] . This could mean that other means of indirect transmission like consumption of camel milk or meat or transfer from an intermediate host to humans contribute to spread [20] .\\n\\nAll successful viruses have devised strategies to evade immune recognition by the host. These include mechanisms that are both active and passive. Common strategies are to delay the induction of the IFN response, block IFN signaling or counter the action of downstream effector molecules. Coronavirus RNA is not recognized in several cell types, partly because double stranded RNA, which is a potent inducer of IFN is shielded from recognition by intracellular helical sensors, such as RIG-I and MDA5, by containment in membranous structures, such as double membrane vesicles (DMVs) during replication [25, 26] . Also viral proteins nsp1, nsp3, nsp16, N protein, SARS-CoV ORF6 and ORF3b and MERS-CoV 4a and 4b inhibit IFN induction or signaling ( Figure 3 ). Nsp1 inhibits IFN signaling in SARS-CoV infected cells by inhibiting phosphorylation of STAT1 as well as by promoting host gene mRNA degradation [12] . Nsp1 also inhibits host gene expression by binding to the 40S ribosomal subunit and by inactivating the translation activity of the ribosomes. Nsp3 through its papain-like protease (PLP) domain inhibits IFN I production by deubiquitinating IRF3 and prevents its nuclear translocation [27] . PLP physically interacts with TRAF3, TBK1, IKKε, STING and IRF3, and inhibits phosphorylation and dimerization of IRF3 inhibiting IFN expression [28] . Nsp16, by effecting 2\\'-O methylation, renders viral RNA indistinguishable from host cell RNA [29, 30] . N protein inhibits activator protein 1 (AP1) signaling and protein kinase R (PKR) function as well as nuclear factor-κB (NFκB) activation [12] . The ORF6 protein inhibits IFN signaling by binding to karyopherin-α2, which prevents nuclear translocation of proteins containing classical nuclear import signals, including STAT1, crucial for IFN signaling [31] . MERS-CoV accessory protein ORF4a antagonizes IFN induction through MDA5 by sequestrating viral dsRNA and preventing it from binding to MDA5 [32] [33] [34] . MERS-CoV also encodes accessory protein ORF4b, which has been shown to localize to the nucleus and inhibit IFN I synthesis and NFκB signaling pathways [27] .\\n\\nFurther insights into the immune response against MERS-CoV are hindered by the absence of a good animal model that recapitulates the human disease. Mouse DPP4 does not support MERS-CoV replication but mice are susceptible if hDPP4 is supplied exogenously using a replication deficient adeno-virus expressing hDPP4 (Ad5-hDPP4) or if mice are transgenic or \"knocked-in\" for hDPP4 [35] [36] [37] . Use of Ad5-hDPP4 transduction allows genetically deficient mice to be infected without additional crossing. MERS-CoV infection of transduced Ad5-hDPP4 demonstrated the need for IFN I induction for protection and showed that virus-specific T cells were required for MERS-CoV clearance. Rabbits, macaques and marmosets can also be infected with MERS-CoV although these animals develop few signs of clinical disease (rabbits, macaques) or are difficult to obtain (marmosets) [38] [39] [40] [41] . Rabbits and macaques may be useful for study of mild human disease but not for understanding pathogenesis in severely ill patients. The anti-virus T cell response is critical for virus clearance. The T cell response is initiated by the uptake of viral antigen (Ag) by respiratory dendritic cells (rDC) and rDC migration to draining lymph nodes (DLN), where they prime naïve virus specific T cells. Following priming, naïve T cell undergo activation and clonal proliferation, which then migrate from the DLN to the site of infection (lungs). At this site, they secrete various anti-viral chemokines, cytokines and cytotoxic molecules that can directly or indirectly inhibit viral replication. Severely ill MERS and SARS patients exhibited severe leukopenia with marked lymphopenia, impaired activation of T cells and poor anti-virus antibody responses contributing to delayed kinetics of virus clearance [9, 42] . In addition, an effective T cell response is required to shut off the initial cytokine response. Thus, severe SARS was also characterized by prolonged cytokine and interferon expression, contributing to a \"cytokine storm\" in these patients. Studies of virus-specific CD4 and CD8 T cells in patients recovered from SARS identified several immunogenic epitopes localized to the spike (S) and nucleocapsid (N) proteins [43] . However no information is available yet regarding the T cell epitopes recognized in MERS-CoV-infected patients.\\n\\nAs in many viral infections, development of neutralizing antibodies is required to prevent infection after secondary exposure to the pathogen. The anti-SARS-CoV antibody response appeared to be transient, with antibodies not detected 6 years after infection. In contrast, T cell responses were still detectable. [44] . The transient nature of the antibody response raises concerns that SARS recovered patients, if reinfected, would not be protected from severe disease. Of note, none of these studies examined the mucosal antibody response, which may be very important for protection.\\n\\nMouse and macaque models of SARS infection have provided a wealth of knowledge regarding the immune response against CoV in general and SARS-CoV in particular. Human strains of SARS-CoV infect macaques and mice but generally do not cause significant clinical disease [45] . However, upon mouse adaptation, the virus causes severe disease, characterized by a lethal respiratory infection [46] . In some strains, young (6-10 week) mice are completely resistant to disease, remaining without signs of disease even in the absence of Type 1 interferon signaling, while others are highly sensitive [31] . Aged mice of all strains are susceptible to disease, mimicking the age-dependent susceptibility observed in humans. SARS-CoV-infected mice have been useful for identifying host genes important in pathogenesis. Studies with mouse adapted SARS-CoV showed that more severe disease was characterized by inefficient immune activation, such as reduced expression of MHCII, CD86, accompanied by poor CD4 and CD8 T cell responses. Reversing inefficient activation of innate immune cells in mice using TLR ligands such as poly I-C or by depleting inhibitory alveolar macrophages using clodronate liposomes rescued mice from lethal disease [47] . These interventions resulted in enhanced migration of dendritic cells to draining lymph nodes and consequent development of a protective T cell response and enhanced kinetics of virus clearance. Experiments with macaques also showed that aged macaques developed a robust, but dysregulated host innate response against SARS-CoV compared to young animals and this correlated with worse outcomes after infection [48] .\\n\\nAnother study showed that age-dependent increases in the levels of a prostaglandin, PGD 2 , in the lungs of aged mice inhibited rDC migration to DLN, which in turn impeded virus- specific T cell responses, rendering aged mice susceptible to severe SARS-CoV infection [49] . Blockade of PGD 2 signaling through its receptor, DP1, resulted in enhanced rDC migration to DLN and virus-specific T cell responses. Given the propensity of MERS-CoV to cause severe disease in aged individuals, it is likely that PGD 2 has a similar role in the context of MERS-CoV infections.\\n\\nDelayed immune activation was also observed in SARS-CoV-infected human macrophages and dendritic cells, suggesting that the virus is able to evade the immune response. Further SARS-CoV only abortively infects DCs and macrophages [9] . In contrast, MERS-CoV productively infects human macrophages [50] . Notably, MERS-CoV additionally infects activated T cells, which may contribute to disease severity [51] . Similar effects occur in infected airway epithelial cells, the first target cell for SARS-CoV and MERS-CoV replication. One study compared infection of human epithelial Calu-3 2B4 cells with MERS-CoV and SARS-CoV, highlighting and contrasting the potential antiviral mechanisms mounted by the host against the two viruses. Infection of these cells induced activation of several RNA sensors at approximately the same time post infection. However the IFN response was slightly delayed in cells infected with SARS-CoV compared to MERS-CoV. Additionally, a notable difference was the specific down regulation of the antigen presentation pathway after MERS-CoV infection, which was upregulated after SARS-CoV infection [52] . Thus, although these two viruses are closely related to one another and both elicit delayed immune responses, they induce a significantly different host transcriptional response, suggesting that \\'MERS is not SARS\\'.\\n\\nThe ease with which SARS-CoV and MERS-CoV, as well as other respiratory coronaviruses such as HCoV-OC43 [53, 54, 16] crossed species to infect humans make it all the more likely that serious CoV outbreaks will continue to emerge. Fittingly, exactly a decade after SARS, MERS emerged with an even higher mortality rate. Three years after the emergence of MERS, the lack of detailed information about the human disease and of a broadly useful animal model has hindered progress in understanding MERS-CoV disease and immune responses. The recent outbreak in South Korea with over 180 cases emphasizes the importance of instituting proper infection control measures, especially in hospital settings and in developing vaccines and drugs to counter the virus.\\n\\n• MERS-CoV is a newly emerging betacoronavirus causing lethal human respiratory infection.\\n\\n• MERS-CoV is transmitted from camels in the Arabian peninsula.\\n\\n• Susceptibility to MERS-CoV infection is greatest in individuals with underlying morbidities.\\n\\n• No vaccines or anti-viral therapies are available for prophylaxis or treatment.\\n\\n• MERS-CoV and SARS-CoV have evolved effective immune evasion strategies. Signaling of MAVS results in activation of various kinases, which phosphorylate IRF3, resulting in its dimerization and trafficking to the nucleus for inducing IFN I production. IFN I thus produced will signal through IFNα/β receptor resulting in its phosphorylation by JAK1 and TYK1. This will result in STAT1/STAT2 complex formation, activation and localization into the nucleus using import factors such as karyopherin α1 (Kα1) and karyopherin α2 (Kα2), which will activate various interferon stimulated response elements (ISREs) to bring about an antiviral state. As depicted in the schematic, CoVs have developed strategies to evade/inhibit host innate immune functions, some of which are specific to SARS-CoV [26] (blue) and MERS-CoV (magenta) and some which are shared between the two viruses (red). Nsp1 inhibits phosphorylation of STAT1, promotes host gene mRNA degradation, and also inhibits host mRNA translation. Nsp3 interacts with IRF3, inhibiting its phosphorylation, dimerization and nuclear translocation. Nsp16 renders the virus unrecognizable by cellular sensors MDA5 and RIG-I. N protein inhibits AP1 and NFκB signaling and PKR function. \\n\\n']\n",
      "====================================================================================================\n"
     ]
    },
    {
     "name": "stderr",
     "output_type": "stream",
     "text": [
      "\n"
     ]
    }
   ],
   "source": [
    "print(\"Reading Papers!\")\n",
    "draw_horizontal_lines(100)\n",
    "papers = read_papers()\n",
    "print(papers[0])\n",
    "draw_horizontal_lines(100)"
   ]
  },
  {
   "cell_type": "code",
   "execution_count": 88,
   "metadata": {},
   "outputs": [
    {
     "name": "stdout",
     "output_type": "stream",
     "text": [
      "====================================================================================================\n",
      "Create a dataframe for processing!\n",
      "====================================================================================================\n"
     ]
    },
    {
     "data": {
      "text/html": [
       "<div>\n",
       "<style scoped>\n",
       "    .dataframe tbody tr th:only-of-type {\n",
       "        vertical-align: middle;\n",
       "    }\n",
       "\n",
       "    .dataframe tbody tr th {\n",
       "        vertical-align: top;\n",
       "    }\n",
       "\n",
       "    .dataframe thead th {\n",
       "        text-align: right;\n",
       "    }\n",
       "</style>\n",
       "<table border=\"1\" class=\"dataframe\">\n",
       "  <thead>\n",
       "    <tr style=\"text-align: right;\">\n",
       "      <th></th>\n",
       "      <th>title</th>\n",
       "      <th>abstract</th>\n",
       "      <th>text</th>\n",
       "    </tr>\n",
       "  </thead>\n",
       "  <tbody>\n",
       "    <tr>\n",
       "      <td>0</td>\n",
       "      <td>Middle East Respiratory Syndrome and Severe Ac...</td>\n",
       "      <td>The recent emergence of the Middle East respir...</td>\n",
       "      <td>While most CoVs cause the common cold in human...</td>\n",
       "    </tr>\n",
       "    <tr>\n",
       "      <td>1</td>\n",
       "      <td>Integrated, Multi-cohort Analysis Identifies C...</td>\n",
       "      <td>Graphical Abstract Highlights d MVS is a commo...</td>\n",
       "      <td>Clinically relevant respiratory viral signatur...</td>\n",
       "    </tr>\n",
       "    <tr>\n",
       "      <td>2</td>\n",
       "      <td>Evolutionary Medicine IV. Evolution and Emerge...</td>\n",
       "      <td>No abstract found</td>\n",
       "      <td>The evolutionary history of humans is characte...</td>\n",
       "    </tr>\n",
       "    <tr>\n",
       "      <td>3</td>\n",
       "      <td>International aviation emissions to 2025: Can ...</td>\n",
       "      <td>International aviation is growing rapidly, res...</td>\n",
       "      <td>Sixty years ago, civil aviation was an infant ...</td>\n",
       "    </tr>\n",
       "    <tr>\n",
       "      <td>4</td>\n",
       "      <td>2 Mechanisms of diarrhoea</td>\n",
       "      <td>No abstract found</td>\n",
       "      <td>Acute infections of the gastrointestinal tract...</td>\n",
       "    </tr>\n",
       "  </tbody>\n",
       "</table>\n",
       "</div>"
      ],
      "text/plain": [
       "                                               title  \\\n",
       "0  Middle East Respiratory Syndrome and Severe Ac...   \n",
       "1  Integrated, Multi-cohort Analysis Identifies C...   \n",
       "2  Evolutionary Medicine IV. Evolution and Emerge...   \n",
       "3  International aviation emissions to 2025: Can ...   \n",
       "4                          2 Mechanisms of diarrhoea   \n",
       "\n",
       "                                            abstract  \\\n",
       "0  The recent emergence of the Middle East respir...   \n",
       "1  Graphical Abstract Highlights d MVS is a commo...   \n",
       "2                                  No abstract found   \n",
       "3  International aviation is growing rapidly, res...   \n",
       "4                                  No abstract found   \n",
       "\n",
       "                                                text  \n",
       "0  While most CoVs cause the common cold in human...  \n",
       "1  Clinically relevant respiratory viral signatur...  \n",
       "2  The evolutionary history of humans is characte...  \n",
       "3  Sixty years ago, civil aviation was an infant ...  \n",
       "4  Acute infections of the gastrointestinal tract...  "
      ]
     },
     "metadata": {},
     "output_type": "display_data"
    }
   ],
   "source": [
    "draw_horizontal_lines(100)\n",
    "print(\"Create a dataframe for processing!\")\n",
    "draw_horizontal_lines(100)\n",
    "df_covid = pd.DataFrame(papers, columns=[\"title\", \"abstract\", \"text\"])\n",
    "display(df_covid.head())"
   ]
  },
  {
   "cell_type": "code",
   "execution_count": 89,
   "metadata": {},
   "outputs": [
    {
     "name": "stdout",
     "output_type": "stream",
     "text": [
      "====================================================================================================\n",
      "Getting the subset of DF containing the keyword!\n",
      "====================================================================================================\n"
     ]
    },
    {
     "data": {
      "text/html": [
       "<div>\n",
       "<style scoped>\n",
       "    .dataframe tbody tr th:only-of-type {\n",
       "        vertical-align: middle;\n",
       "    }\n",
       "\n",
       "    .dataframe tbody tr th {\n",
       "        vertical-align: top;\n",
       "    }\n",
       "\n",
       "    .dataframe thead th {\n",
       "        text-align: right;\n",
       "    }\n",
       "</style>\n",
       "<table border=\"1\" class=\"dataframe\">\n",
       "  <thead>\n",
       "    <tr style=\"text-align: right;\">\n",
       "      <th></th>\n",
       "      <th>title</th>\n",
       "      <th>abstract</th>\n",
       "      <th>text</th>\n",
       "    </tr>\n",
       "  </thead>\n",
       "  <tbody>\n",
       "    <tr>\n",
       "      <td>136</td>\n",
       "      <td>Medical issues associated with commercial fl i...</td>\n",
       "      <td>Almost 2 billion people travel aboard commerci...</td>\n",
       "      <td>Fitness for air travel is a growing issue beca...</td>\n",
       "    </tr>\n",
       "    <tr>\n",
       "      <td>157</td>\n",
       "      <td>Pandemic 2009 influenza A (H1N1) infection amo...</td>\n",
       "      <td>No abstract found</td>\n",
       "      <td>Hajj is the largest annual recurring religious...</td>\n",
       "    </tr>\n",
       "    <tr>\n",
       "      <td>201</td>\n",
       "      <td>-NC-ND license (http://creativecommons.org/lic...</td>\n",
       "      <td>Many industrialized countries have implemented...</td>\n",
       "      <td>Vaccination of older adults has been shown to ...</td>\n",
       "    </tr>\n",
       "    <tr>\n",
       "      <td>290</td>\n",
       "      <td>Human Metapneumovirus and Other Respiratory Vi...</td>\n",
       "      <td>No abstract found</td>\n",
       "      <td>Human metapneumovirus (HMPV) is a respiratory ...</td>\n",
       "    </tr>\n",
       "    <tr>\n",
       "      <td>351</td>\n",
       "      <td>Emerging infectious disease outbreaks: Old les...</td>\n",
       "      <td>No abstract found</td>\n",
       "      <td>The long and prominent role of infectious dise...</td>\n",
       "    </tr>\n",
       "  </tbody>\n",
       "</table>\n",
       "</div>"
      ],
      "text/plain": [
       "                                                 title  \\\n",
       "136  Medical issues associated with commercial fl i...   \n",
       "157  Pandemic 2009 influenza A (H1N1) infection amo...   \n",
       "201  -NC-ND license (http://creativecommons.org/lic...   \n",
       "290  Human Metapneumovirus and Other Respiratory Vi...   \n",
       "351  Emerging infectious disease outbreaks: Old les...   \n",
       "\n",
       "                                              abstract  \\\n",
       "136  Almost 2 billion people travel aboard commerci...   \n",
       "157                                  No abstract found   \n",
       "201  Many industrialized countries have implemented...   \n",
       "290                                  No abstract found   \n",
       "351                                  No abstract found   \n",
       "\n",
       "                                                  text  \n",
       "136  Fitness for air travel is a growing issue beca...  \n",
       "157  Hajj is the largest annual recurring religious...  \n",
       "201  Vaccination of older adults has been shown to ...  \n",
       "290  Human metapneumovirus (HMPV) is a respiratory ...  \n",
       "351  The long and prominent role of infectious dise...  "
      ]
     },
     "metadata": {},
     "output_type": "display_data"
    },
    {
     "name": "stderr",
     "output_type": "stream",
     "text": [
      "100%|██████████| 1126/1126 [00:00<00:00, 5510.64it/s]"
     ]
    },
    {
     "name": "stdout",
     "output_type": "stream",
     "text": [
      "====================================================================================================\n",
      "Title:  Medical issues associated with commercial fl ights\n",
      "Sentences:  [' 69 Recommendations need to be in place for pregnant women because the fetus is exposed to the same radiation dose as the mother']\n",
      "====================================================================================================\n",
      "\n",
      "====================================================================================================\n",
      "Title:  Pandemic 2009 influenza A (H1N1) infection among 2009 Hajj Pilgrims from Southern Iran: a real-time RT-PCR-based study\n",
      "Sentences:  [' This finding is understandable in view of the fact that there were no members of high-risk groups such as pregnant women or individuals with chronic health conditions among the pilgrims, and secondly, as previous reports indicate, A(H1N1)pdm09 infection has not been associated with high mortality rates and finally the instructions given to the pilgrims about contact and hand hygiene and respiratory etiquette']\n",
      "====================================================================================================\n",
      "\n",
      "====================================================================================================\n",
      "Title:  -NC-ND license (http://creativecommons.org/licenses/by-nc-nd/4.0/)\n",
      "Sentences:  [' immunization visits at ages 6, 10 and 14 weeks, and 9 months) and pregnant women']\n",
      "====================================================================================================\n",
      "\n",
      "====================================================================================================\n",
      "Title:  Human Metapneumovirus and Other Respiratory Viral Infections during Pregnancy and Birth, Nepal\n",
      "Sentences:  [' The incidence and characteristics of HMPV have not been well described in pregnant women', ' Twenty-five women were infected with HMPV during pregnancy, compared with 98 pregnant women who contracted rhinovirus and 7 who contracted respiratory syncytial virus', ' An intervention to reduce HMPV febrile respiratory illness in pregnant women may have the potential to decrease risk of adverse birth outcomes in developing countries', '\\n\\nIllness and death from respiratory viruses among pregnant women have received greater appreciation globally following the pandemic influenza outbreak in 2009', ' Pregnancy is known to have an immunomodulating effect, and pregnant women are at elevated risk for complications of both seasonal and pandemic influenza (13, 14) ', '\\n\\nThis study describes the clinical characteristics of infection due to HMPV and other respiratory viruses among pregnant women in a rural population in South Asia', '\\n\\nWe obtained data for this study during 2 consecutive community-based randomized controlled trials of year-round seasonal influenza vaccination among pregnant women in a rural population in Sarlahi, Nepal', '3); this represents 25 cases among pregnant women (16', ' Other respiratory viruses detected among pregnant women in this cohort were rhinovirus (n = 98), coronavirus (n = 30), parainfluenza (n = 23), bocavirus (n = 9), respiratory syncytial virus (RSV) (n = 7), and adenovirus (n = 6) ( Table 1) ', '\\n\\nAmong the 25 pregnant women with HMPV, median gestational age at time of illness was 32', '\\n\\nIn respiratory disease associated with respiratory viruses among pregnant women overall, cough was the most common symptom in all illnesses except parainfluenza and RSV, for which rhinorrhea/nasal congestion was the most common symptom', '\\n\\nTwelve pregnant women (48', ' Overall, rhinovirus was the most commonly detected pathogen among pregnant women in this cohort (n = 98); coronavirus was also relatively common (n = 30)', ' This finding contrasts with previous literature on influenza and RSV, which demonstrates elevated risk for severe disease among pregnant women (13, 14, (29) (30) (31) ', ' Rates of hypertension, maternal smoking, and alcohol use are low in this cohort, and we found no difference in body mass index between pregnant women with and without SGA births', ' Few studies of HMPV have been conducted in these types of settings, particularly among pregnant women, which is notable because the presentation and clinical outcomes of disease may differ in regions of the world with high rates of household density, malnutrition, and indoor air pollution']\n",
      "====================================================================================================\n",
      "\n",
      "====================================================================================================\n",
      "Title:  Emerging infectious disease outbreaks: Old lessons and new challenges for obstetrician-gynecologists\n",
      "Sentences:  [' In fact, diseases of pregnant women and newborn infants are 1 of the 9 areas that are targeted specifically in the CDC plan', ' For example, 2 of the 8 patients with lab-confirmed severe acute respiratory syndrome (SARS) in the United States were pregnant women', ' Specific concerns for obstetrician-gynecologists that include issues that are relevant for pregnant women are addressed', ' 34, 35 Because ribavirin is known to be teratogenic and embryocidal in animal studies, 36 ribavirin is not recommended for treatment of SARS in pregnant women', '\\n\\nAlthough there were reports of pregnant women with SARS from several countries, the number of reported cases is too small to permit any definitive conclusions as to whether SARS was more or less severe among pregnant women as compared with nonpregnant women', ' Among the cases of SARS that have been reported among pregnant women, there were no reports of perinatal transmission of SARS', ' [37] [38] [39] [40] [41] [42] The largest case series of pregnant women with SARS was from Hong Kong; 12 pregnant patients, including 5 pregnant healthcare workers, with SARS were admitted to 5 public hospitals in Hong Kong', ' Seven of the 12 pregnant women with SARS were infected in the first trimester, and 5 of the women were infected in the second or third trimester', ' Although the number of evaluated patients was small, pregnant women with SARS were more likely to require admission to the intensive care unit, to experience renal failure and disseminated intravascular coagulopathy, and to die than nonpregnant control subjects', ' 38 Followup information was reported for the 5 liveborn infants who were born to pregnant women who were infected with SARS during the second or third trimesters', ' 15 There were also cases of pregnant women with SARS from mainland China 42,43 and 2 cases from the United States', ' 37, 39, 40 Notably, 2 of the 8 persons with laboratory-confirmed SARS in the United States were pregnant women', ' During an outbreak of a disease like SARS in which nosocomial spread plays an important role, the implications for a busy obstetric unit that provides urgent medical care on a 24-hour basis to primarily healthy pregnant women and their newborn infants are enormous', ' [46] [47] [48] The basic principles of the responses in Toronto and Hong Kong included keeping healthy pregnant women away from potentially infectious SARS cases', '\\n\\nTo avoid West Nile virus infection, the CDC recommends that pregnant women avoid exposure to mosquitoes, including wearing protective clothing and avoiding outdoor activities during peak mosquito feeding times, usually dawn and dusk', ' 65 Safety information about DEET comes largely from animal toxicity studies and from a malaria clinical trial in Thailand in which 897 pregnant women applied DEET daily and no serious maternal or neonatal adverse effects were reported', ' 66 For pregnant women with unexplained fever, mental status changes, meningitis, encephalitis, or acute flaccid paralysis, obstetrician-gynecologists should consider the diagnosis of West Nile virus and should test maternal samples for West Nile virus (serum and cerebrospinal fluid, if indicated)', ' However, screening of asymptomatic pregnant women is not recommended', ' The CDC has set up a registry for pregnant women who have been infected with West Nile virus; since 2003, the CDC has been tracking O70 infected pregnant women', ' 81 During the anthrax attacks of 2001, recommendations about how to implement postexposure prophylaxis regimens for asymptomatic pregnant women needed to be developed rapidly', ' Doxycycline should be used with caution in pregnant women because it may cause fetal toxic effects such as defective dental enamel and depressed bone growth', ' In addition, the use of doxycycline in pregnant women infrequently has been associated with hepatic necrosis', ' 85 However, the risks of anthrax must be balanced against the risks of doxycycline; in some cases, the use of doxycycline in pregnant women may be appropriate', ' In the meantime, the Department of Defense policy continues to exclude pregnant women from anthrax vaccination programs']\n",
      "====================================================================================================\n",
      "\n"
     ]
    },
    {
     "name": "stderr",
     "output_type": "stream",
     "text": [
      "\n"
     ]
    }
   ],
   "source": [
    "def keyword_based_search(keyword, df):\n",
    "    result = df[df['text'].str.contains(keyword)]\n",
    "    text_content = result.text.values\n",
    "    title = result.title.values\n",
    "    display(result.head())\n",
    "    relevant_sentences = {'title': [], 'sents': []}\n",
    "    for sent in tqdm.tqdm(range(len(text_content))):\n",
    "        sentences = text_content[sent].split('.')\n",
    "        relevant_sentences['title'].append(title[sent])\n",
    "        relevant_sentences['sents'].append([s for s in sentences if keyword in s])\n",
    "    return relevant_sentences\n",
    "\n",
    "draw_horizontal_lines(100)\n",
    "print(\"Getting the subset of DF containing the keyword!\")\n",
    "draw_horizontal_lines(100)\n",
    "relevant_sentences = keyword_based_search(\"pregnant women\", df_covid)\n",
    "for i in range(5):\n",
    "    draw_horizontal_lines(100)\n",
    "    print(\"Title: \", relevant_sentences['title'][i])\n",
    "    print(\"Sentences: \", relevant_sentences['sents'][i])\n",
    "    draw_horizontal_lines(100)\n",
    "    print()"
   ]
  },
  {
   "cell_type": "code",
   "execution_count": null,
   "metadata": {},
   "outputs": [],
   "source": []
  }
 ],
 "metadata": {
  "kernelspec": {
   "display_name": "Python 3",
   "language": "python",
   "name": "python3"
  },
  "language_info": {
   "codemirror_mode": {
    "name": "ipython",
    "version": 3
   },
   "file_extension": ".py",
   "mimetype": "text/x-python",
   "name": "python",
   "nbconvert_exporter": "python",
   "pygments_lexer": "ipython3",
   "version": "3.7.7"
  }
 },
 "nbformat": 4,
 "nbformat_minor": 2
}
