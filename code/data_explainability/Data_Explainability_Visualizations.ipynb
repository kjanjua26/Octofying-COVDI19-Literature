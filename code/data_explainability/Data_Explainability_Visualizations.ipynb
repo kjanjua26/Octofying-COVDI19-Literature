{
 "cells": [
  {
   "cell_type": "markdown",
   "metadata": {},
   "source": [
    "## Data Explainability and Visualization\n",
    "In this notebook, we perform exploratory data analysis on the published literature on COVID-19 and try to answer some basic questions such as\n",
    "\n",
    "1. What is known about transmission, incubation, and environmental stability?\n",
    "2. What do we know about COVID-19 risk factors?\n",
    "3. Best medical care?\n",
    "4. How the COVID-19 spreads and evolves?\n",
    "5. What are some of the most promising vaccines available (if at all)?\n",
    "\n",
    "Answering these questions will help clear doubts and answer questions."
   ]
  },
  {
   "cell_type": "code",
   "execution_count": null,
   "metadata": {},
   "outputs": [],
   "source": []
  }
 ],
 "metadata": {
  "kernelspec": {
   "display_name": "Python 3",
   "language": "python",
   "name": "python3"
  },
  "language_info": {
   "codemirror_mode": {
    "name": "ipython",
    "version": 3
   },
   "file_extension": ".py",
   "mimetype": "text/x-python",
   "name": "python",
   "nbconvert_exporter": "python",
   "pygments_lexer": "ipython3",
   "version": "3.7.7"
  }
 },
 "nbformat": 4,
 "nbformat_minor": 2
}
